{
 "cells": [
  {
   "cell_type": "markdown",
   "metadata": {
    "toc": true
   },
   "source": [
    "<h1>Table of Contents<span class=\"tocSkip\"></span></h1>\n",
    "<div class=\"toc\"><ul class=\"toc-item\"><li><span><a href=\"#Lists\" data-toc-modified-id=\"Lists-1\"><span class=\"toc-item-num\">1&nbsp;&nbsp;</span>Lists</a></span><ul class=\"toc-item\"><li><span><a href=\"#Challenge-1:-Remove-Even-Integers-from-List\" data-toc-modified-id=\"Challenge-1:-Remove-Even-Integers-from-List-1.1\"><span class=\"toc-item-num\">1.1&nbsp;&nbsp;</span>Challenge 1: Remove Even Integers from List</a></span></li><li><span><a href=\"#Challenge-2:-Merge-Two-Sorted-Lists\" data-toc-modified-id=\"Challenge-2:-Merge-Two-Sorted-Lists-1.2\"><span class=\"toc-item-num\">1.2&nbsp;&nbsp;</span>Challenge 2: Merge Two Sorted Lists</a></span></li><li><span><a href=\"#Challenge-4:-List-of-Products-of-all-Elements\" data-toc-modified-id=\"Challenge-4:-List-of-Products-of-all-Elements-1.3\"><span class=\"toc-item-num\">1.3&nbsp;&nbsp;</span>Challenge 4: List of Products of all Elements</a></span></li><li><span><a href=\"#Challenge-7:-Find-Second-Maximum-Value-in-a-List\" data-toc-modified-id=\"Challenge-7:-Find-Second-Maximum-Value-in-a-List-1.4\"><span class=\"toc-item-num\">1.4&nbsp;&nbsp;</span>Challenge 7: Find Second Maximum Value in a List</a></span></li><li><span><a href=\"#Challenge-8:-Right-Rotate-List\" data-toc-modified-id=\"Challenge-8:-Right-Rotate-List-1.5\"><span class=\"toc-item-num\">1.5&nbsp;&nbsp;</span>Challenge 8: Right Rotate List</a></span></li><li><span><a href=\"#Challenge-9:-Rearrange-Positive-&amp;-Negative-Values\" data-toc-modified-id=\"Challenge-9:-Rearrange-Positive-&amp;-Negative-Values-1.6\"><span class=\"toc-item-num\">1.6&nbsp;&nbsp;</span>Challenge 9: Rearrange Positive &amp; Negative Values</a></span></li><li><span><a href=\"#Challenge-10:-Rearrange-Sorted-List-in-Max/Min-Form\" data-toc-modified-id=\"Challenge-10:-Rearrange-Sorted-List-in-Max/Min-Form-1.7\"><span class=\"toc-item-num\">1.7&nbsp;&nbsp;</span>Challenge 10: Rearrange Sorted List in Max/Min Form</a></span></li><li><span><a href=\"#Challenge-11:-Maximum-Sum-Sublist\" data-toc-modified-id=\"Challenge-11:-Maximum-Sum-Sublist-1.8\"><span class=\"toc-item-num\">1.8&nbsp;&nbsp;</span>Challenge 11: Maximum Sum Sublist</a></span></li></ul></li><li><span><a href=\"#Linked-Lists\" data-toc-modified-id=\"Linked-Lists-2\"><span class=\"toc-item-num\">2&nbsp;&nbsp;</span>Linked Lists</a></span><ul class=\"toc-item\"><li><span><a href=\"#Challenge-1:-Insertion-at-Tail\" data-toc-modified-id=\"Challenge-1:-Insertion-at-Tail-2.1\"><span class=\"toc-item-num\">2.1&nbsp;&nbsp;</span>Challenge 1: Insertion at Tail</a></span></li><li><span><a href=\"#Challenge-2:-Search-in-a-Singly-Linked-List\" data-toc-modified-id=\"Challenge-2:-Search-in-a-Singly-Linked-List-2.2\"><span class=\"toc-item-num\">2.2&nbsp;&nbsp;</span>Challenge 2: Search in a Singly Linked List</a></span></li><li><span><a href=\"#Challenge-3:-Deletion-by-Value\" data-toc-modified-id=\"Challenge-3:-Deletion-by-Value-2.3\"><span class=\"toc-item-num\">2.3&nbsp;&nbsp;</span>Challenge 3: Deletion by Value</a></span></li><li><span><a href=\"#Challenge-4:-Find-the-Length-of-a-Linked-List\" data-toc-modified-id=\"Challenge-4:-Find-the-Length-of-a-Linked-List-2.4\"><span class=\"toc-item-num\">2.4&nbsp;&nbsp;</span>Challenge 4: Find the Length of a Linked List</a></span></li><li><span><a href=\"#Challenge-5:-Reverse-a-Linked-List\" data-toc-modified-id=\"Challenge-5:-Reverse-a-Linked-List-2.5\"><span class=\"toc-item-num\">2.5&nbsp;&nbsp;</span>Challenge 5: Reverse a Linked List</a></span></li><li><span><a href=\"#Challenge-6:-Detect-Loop-in-a-Linked-List\" data-toc-modified-id=\"Challenge-6:-Detect-Loop-in-a-Linked-List-2.6\"><span class=\"toc-item-num\">2.6&nbsp;&nbsp;</span>Challenge 6: Detect Loop in a Linked List</a></span></li><li><span><a href=\"#Challenge-7:-Find-Middle-Node-of-Linked-List\" data-toc-modified-id=\"Challenge-7:-Find-Middle-Node-of-Linked-List-2.7\"><span class=\"toc-item-num\">2.7&nbsp;&nbsp;</span>Challenge 7: Find Middle Node of Linked List</a></span></li><li><span><a href=\"#Challenge-8:-Remove-Duplicates-from-Linked-List\" data-toc-modified-id=\"Challenge-8:-Remove-Duplicates-from-Linked-List-2.8\"><span class=\"toc-item-num\">2.8&nbsp;&nbsp;</span>Challenge 8: Remove Duplicates from Linked List</a></span></li><li><span><a href=\"#Challenge-9:-Union-&amp;-Intersection-of-Linked-Lists\" data-toc-modified-id=\"Challenge-9:-Union-&amp;-Intersection-of-Linked-Lists-2.9\"><span class=\"toc-item-num\">2.9&nbsp;&nbsp;</span>Challenge 9: Union &amp; Intersection of Linked Lists</a></span></li><li><span><a href=\"#Challenge-10:-Return-the-Nth-node-from-End\" data-toc-modified-id=\"Challenge-10:-Return-the-Nth-node-from-End-2.10\"><span class=\"toc-item-num\">2.10&nbsp;&nbsp;</span>Challenge 10: Return the Nth node from End</a></span></li><li><span><a href=\"#Intersection-Point-of-Two-Lists\" data-toc-modified-id=\"Intersection-Point-of-Two-Lists-2.11\"><span class=\"toc-item-num\">2.11&nbsp;&nbsp;</span>Intersection Point of Two Lists</a></span></li><li><span><a href=\"#Happy-Number-(medium)\" data-toc-modified-id=\"Happy-Number-(medium)-2.12\"><span class=\"toc-item-num\">2.12&nbsp;&nbsp;</span>Happy Number (medium)</a></span></li><li><span><a href=\"#Reverse-every-K-element-Sub-list-(medium)\" data-toc-modified-id=\"Reverse-every-K-element-Sub-list-(medium)-2.13\"><span class=\"toc-item-num\">2.13&nbsp;&nbsp;</span>Reverse every K-element Sub-list (medium)</a></span></li><li><span><a href=\"#Rotate-a-Linked-List\" data-toc-modified-id=\"Rotate-a-Linked-List-2.14\"><span class=\"toc-item-num\">2.14&nbsp;&nbsp;</span>Rotate a Linked List</a></span></li><li><span><a href=\"#Reverse-Alternate-K-Nodes-in-a-Singly-Linked-List\" data-toc-modified-id=\"Reverse-Alternate-K-Nodes-in-a-Singly-Linked-List-2.15\"><span class=\"toc-item-num\">2.15&nbsp;&nbsp;</span>Reverse Alternate K Nodes in a Singly Linked List</a></span></li><li><span><a href=\"#Add-Two-Integers-Represented-by-Linked-Lists\" data-toc-modified-id=\"Add-Two-Integers-Represented-by-Linked-Lists-2.16\"><span class=\"toc-item-num\">2.16&nbsp;&nbsp;</span>Add Two Integers Represented by Linked Lists</a></span></li><li><span><a href=\"#Copy-Linked-List-with-Arbitrary-Pointer\" data-toc-modified-id=\"Copy-Linked-List-with-Arbitrary-Pointer-2.17\"><span class=\"toc-item-num\">2.17&nbsp;&nbsp;</span>Copy Linked List with Arbitrary Pointer</a></span></li><li><span><a href=\"#Merge-K-Sorted-Lists-(medium)\" data-toc-modified-id=\"Merge-K-Sorted-Lists-(medium)-2.18\"><span class=\"toc-item-num\">2.18&nbsp;&nbsp;</span>Merge K Sorted Lists (medium)</a></span></li></ul></li></ul></div>"
   ]
  },
  {
   "cell_type": "code",
   "execution_count": null,
   "metadata": {},
   "outputs": [],
   "source": []
  },
  {
   "cell_type": "markdown",
   "metadata": {},
   "source": [
    "https://www.educative.io/module/lesson/data-structures-in-python/393G9ZlnOEQ\n"
   ]
  },
  {
   "cell_type": "markdown",
   "metadata": {},
   "source": [
    "# Lists\n",
    "\n",
    "The objects of lists themselves are stored in random memory locations whereas the pointers that make up the list are stored in sequential locations\n"
   ]
  },
  {
   "cell_type": "markdown",
   "metadata": {},
   "source": [
    "## Challenge 1: Remove Even Integers from List\n",
    "\n",
    "Given a list of size n, remove all even integers from it. Implement this solution in Python and see if it runs without an error.\n",
    "\n",
    "Introduction #\n",
    "\n",
    "Here is a short guide to these challenge lessons.\n",
    "\n",
    "- The function definition is always given in the problem statement with the expected arguments and function name to be used as is in the solution. If you change it, your code will not compile\n",
    "\n",
    "- The skeleton code given has a function definition which only has the pass keyword in the body. It does exactly what it sounds like it does: nothing. It’s just there as a placeholder. Delete it and add your code in.\n",
    "\n",
    "- When you do get compile-time errors, they will sometimes refer to line numbers and code which you did not write. That is fine; that is just our evaluation code. When in doubt, refer to the solution given and paste that in.\n",
    "\n",
    "- Sometimes you will have to return from functions in a form that aligns with the test cases. Your solution may not be incorrect, but the return value might not be what the evaluation code expects. For example, you might return two numbers in a list, but our test cases might expect a tuple. Watch out for that. Good luck! 🍀\n",
    "\n",
    "Problem Statement #\n",
    "\n",
    "Implement a function that removes all the even elements from a given list. Name it remove_even(lst).\n",
    "\n",
    "Input #\n",
    "\n",
    "A list with random integers.\n",
    "\n",
    "Output #\n",
    "\n",
    "A list with only odd integers\n",
    "\n",
    "Sample Input #\n",
    "\n",
    "my_list = [1,2,4,5,10,6,3]\n",
    "\n",
    "Sample Output #\n",
    "\n",
    "my_list = [1,5,3]\n",
    "\n",
    "\n",
    "**Time Complexity** #\n",
    "\n",
    "The time complexity of this solution is also O(n), since only the syntax has changed while the algorithm still iterates over all elements of the list.\n"
   ]
  },
  {
   "cell_type": "code",
   "execution_count": 2,
   "metadata": {},
   "outputs": [],
   "source": [
    "def remove_even(lst):\n",
    "    return [item for item in lst if item % 2 != 0]\n"
   ]
  },
  {
   "cell_type": "code",
   "execution_count": 3,
   "metadata": {},
   "outputs": [
    {
     "data": {
      "text/plain": [
       "[1, 5, 3]"
      ]
     },
     "execution_count": 3,
     "metadata": {},
     "output_type": "execute_result"
    }
   ],
   "source": [
    "remove_even([1, 2, 4, 5, 10, 6, 3])\n"
   ]
  },
  {
   "cell_type": "code",
   "execution_count": null,
   "metadata": {},
   "outputs": [],
   "source": []
  },
  {
   "cell_type": "markdown",
   "metadata": {},
   "source": [
    "## Challenge 2: Merge Two Sorted Lists\n",
    "\n",
    "Given two sorted lists, merge them into one list which should also be sorted. \n",
    "\n",
    "Problem Statement #\n",
    "\n",
    "Implement a function that merges two sorted lists of m and n elements respectively, into another sorted list. Name it merge_lists(lst1, lst2).\n",
    "\n",
    "Input #\n",
    "\n",
    "Two sorted lists.\n",
    "\n",
    "Output #\n",
    "\n",
    "A merged and sorted list consisting of all elements of both input lists.\n",
    "\n",
    "Sample Input #\n",
    "\n",
    "list1 = [1,3,4,5]  \n",
    "\n",
    "list2 = [2,6,7,8]\n",
    "\n",
    "Sample Output #\n",
    "\n",
    "arr = [1,2,3,4,5,6,7,8]\n"
   ]
  },
  {
   "cell_type": "code",
   "execution_count": 6,
   "metadata": {},
   "outputs": [],
   "source": [
    "# Solution #1: Creating a New List #\n",
    "# Traverse Both lists and insert smaller value from arr1 or arr2\n",
    "# into result list and then increment that lists index.\n",
    "# If a list is completely traversed, while other one is left then just\n",
    "# copy all the remaining elements into result list\n",
    "\n",
    "def merge_lists(lst1, lst2):\n",
    "    index_lst1, index_lst2, index_res = 0, 0, 0\n",
    "    res = [0] * (len(lst1) + len(lst2))\n",
    "    while index_lst1 < len(lst1) and index_lst2 < len(lst2):\n",
    "        if lst1[index_lst1] < lst2[index_lst2]:\n",
    "            res[index_res] = lst1[index_lst1]\n",
    "            index_lst1 += 1\n",
    "        else:\n",
    "            res[index_res] = lst2[index_lst2]\n",
    "            index_lst2 += 1\n",
    "        index_res += 1\n",
    "    while index_lst1 < len(lst1):\n",
    "        res[index_res] = lst1[index_lst1]\n",
    "        index_lst1 += 1\n",
    "        index_res += 1\n",
    "    while index_lst2 < len(lst2):\n",
    "        res[index_res] = lst2[index_lst2]\n",
    "        index_lst2 += 1\n",
    "        index_res += 1\n",
    "    return res\n",
    "    \n"
   ]
  },
  {
   "cell_type": "code",
   "execution_count": 7,
   "metadata": {},
   "outputs": [
    {
     "name": "stdout",
     "output_type": "stream",
     "text": [
      "[-2, -1, 0, 4, 5, 6, 7]\n"
     ]
    }
   ],
   "source": [
    "print(merge_lists([4, 5, 6], [-2, -1, 0, 7]))\n"
   ]
  },
  {
   "cell_type": "markdown",
   "metadata": {},
   "source": [
    "Time Complexity #\n",
    "\n",
    "The time complexity for this algorithm is O(n+m) where nn and mm are the lengths of the lists. This is because both lists are iterated over atleast once.\n"
   ]
  },
  {
   "cell_type": "code",
   "execution_count": null,
   "metadata": {},
   "outputs": [],
   "source": []
  },
  {
   "cell_type": "code",
   "execution_count": 8,
   "metadata": {},
   "outputs": [
    {
     "name": "stdout",
     "output_type": "stream",
     "text": [
      "[-2, -1, 0, 4, 5, 6, 7]\n"
     ]
    }
   ],
   "source": [
    "# Solution #2: Merging in Place \n",
    "def merge_arrays(lst1, lst2):\n",
    "    ind1 = 0  # Creating 2 new variable to track the 'current index'\n",
    "    ind2 = 0\n",
    "    # While both indeces are less than the length of their lists\n",
    "    while ind1 < len(lst1) and ind2 < len(lst2):\n",
    "        # If the current element of list1 is greater\n",
    "        # than the current element of list2\n",
    "        if(lst1[ind1] > lst2[ind2]):\n",
    "            # insert list2's current index to list1\n",
    "            lst1.insert(ind1, lst2[ind2])\n",
    "            ind1 += 1  # increment indices\n",
    "            ind2 += 1\n",
    "        else:\n",
    "            ind1 += 1\n",
    "\n",
    "    if ind2 < len(lst2):  # Append whatever is left of list2 to list1\n",
    "        lst1.extend(lst2[ind2:])\n",
    "    return lst1\n",
    "\n",
    "\n",
    "print(merge_arrays([4, 5, 6], [-2, -1, 0, 7]))\n"
   ]
  },
  {
   "cell_type": "markdown",
   "metadata": {},
   "source": [
    "This solution merges the two lists in place, i.e., no new list is created. First, initialize two new variables to track the ‘current index’ of both the lists to zero. Then, compare the current elements of both. If the current element of the first list is greater than the current element of the second list, insert the current element of the second list in place of the current element of the first list and increment both index variables by 1. Note that the insert operation is done using the built-in insert function. However, if the current element of the first list is smaller than the current element of the second list, then only increment the index variable of the first list by 1. Continue this until the end of one of the lists is reached, i.e., until one of the index variables is greater than or equal to the length of its respective list. After that, if the index of the second list is smaller than the length of the list, extend the first list by the second one from that index until the end.\n",
    "\n",
    "Time Complexity #\n",
    "\n",
    "Since both lists are traversed in this solution as well, the time complexity is O(m(n+m)) where n and m are the lengths of the lists. Both lists are not traversed separately so we cannot say that complexity is (m+n). The shorter of the two lengths is traversed in the while loop. Also, the insert function gets called when the if-condition is true. In the worst-case, the second list has all the elements that are smaller than the elements of the first list. In this case, the complexity will be O(mn). Note that if m > n, we have O(mn), otherwise the complexity is O(n^2).\n",
    "\n",
    "However, the extra space used in solution#1 is reduced to O(m) in solution#2. Thus, it makes this a tradeoff between space and time.\n",
    "\n"
   ]
  },
  {
   "cell_type": "code",
   "execution_count": null,
   "metadata": {},
   "outputs": [],
   "source": []
  },
  {
   "cell_type": "markdown",
   "metadata": {},
   "source": [
    "## Challenge 4: List of Products of all Elements\n",
    "\n",
    "Given a list, modify it so that each index stores the product of all elements in the list except the element at the index itself.\n",
    "\n",
    "Problem Statement #\n",
    "\n",
    "Implement a function, find_product(lst), which modifies a list so that each index has a product of all the numbers present in the list except the number stored at that index.\n",
    "\n",
    "Input: #\n",
    "\n",
    "A list of numbers (could be floating points or integers)\n",
    "\n",
    "Output: #\n",
    "\n",
    "A list such that each index has a product of all the numbers in the list except the number stored at that index.\n",
    "\n",
    "Sample Input #\n",
    "\n",
    "arr = [1,2,3,4]\n",
    "\n",
    "Sample Output #\n",
    "\n",
    "arr = [24,12,8,6]\n"
   ]
  },
  {
   "cell_type": "code",
   "execution_count": 11,
   "metadata": {},
   "outputs": [
    {
     "name": "stdout",
     "output_type": "stream",
     "text": [
      "[6, 0, 0, 0]\n"
     ]
    }
   ],
   "source": [
    "def find_product(lst):\n",
    "    product = []\n",
    "    left = 1\n",
    "    for el in lst:\n",
    "        product.append(left)\n",
    "        left *= el\n",
    "    right = 1\n",
    "    for i in range(len(lst)-1, -1, -1):\n",
    "        product[i] = product[i] * right\n",
    "        right *= lst[i]\n",
    "    return product\n",
    "\n",
    "\n",
    "print(find_product([0, 1, 2, 3]))\n"
   ]
  },
  {
   "cell_type": "markdown",
   "metadata": {},
   "source": [
    "Time Complexity #\n",
    "\n",
    "Since this algorithm only traverses over the list twice, it’s in linear time, O(n).\n",
    "\n"
   ]
  },
  {
   "cell_type": "code",
   "execution_count": null,
   "metadata": {},
   "outputs": [],
   "source": []
  },
  {
   "cell_type": "markdown",
   "metadata": {},
   "source": [
    "## Challenge 5: Find Minimum Value in List\n",
    "\n",
    "Given a list of size ‘n,’ can you find the minimum value in the list? \n",
    "\n",
    "Problem Statement #\n",
    "Implement a function findMinimum(lst) which finds the smallest number in the given list.\n",
    "\n",
    "Input: #\n",
    "A list of integers\n",
    "\n",
    "Output: #\n",
    "The smallest number in the list\n",
    "\n",
    "Sample Input #\n",
    "\n",
    "arr = [9,2,3,6]\n",
    "\n",
    "Sample Output #\n",
    "\n",
    "2\n"
   ]
  },
  {
   "cell_type": "code",
   "execution_count": 14,
   "metadata": {},
   "outputs": [
    {
     "name": "stdout",
     "output_type": "stream",
     "text": [
      "2\n"
     ]
    }
   ],
   "source": [
    "def find_minimum(lst):\n",
    "    if not lst:\n",
    "        return None\n",
    "    minimum = lst[0]\n",
    "    for el in lst:\n",
    "        if el < minimum:\n",
    "            minimum = el\n",
    "    return minimum\n",
    "    \n",
    "print(find_minimum([9, 3, 2, 6]))\n"
   ]
  },
  {
   "cell_type": "code",
   "execution_count": null,
   "metadata": {},
   "outputs": [],
   "source": []
  },
  {
   "cell_type": "markdown",
   "metadata": {},
   "source": [
    "## Challenge 7: Find Second Maximum Value in a List\n",
    "\n",
    "Given a list of size n, can you find the second maximum element in the list? \n",
    "\n",
    "Problem Statement #\n",
    "\n",
    "Implement a function find_second_maximum(lst) which returns the second largest element in the list.\n",
    "\n",
    "Input: #\n",
    "\n",
    "A List\n",
    "\n",
    "Output: #\n",
    "\n",
    "Second largest element in the list\n",
    "\n",
    "Sample Input #\n",
    "\n",
    "[9,2,3,6]\n",
    "\n",
    "Sample Output #\n",
    "\n",
    "6\n"
   ]
  },
  {
   "cell_type": "code",
   "execution_count": 15,
   "metadata": {},
   "outputs": [
    {
     "name": "stdout",
     "output_type": "stream",
     "text": [
      "6\n"
     ]
    }
   ],
   "source": [
    "def find_second_maximum(lst):\n",
    "    first_maximum = float('-inf')\n",
    "    second_maximum = float('-inf')\n",
    "    for el in lst:\n",
    "        if el > first_maximum:\n",
    "            first_maximum = el\n",
    "    for el in lst:\n",
    "        if el != first_maximum and el > second_maximum:\n",
    "            second_maximum = el\n",
    "    return second_maximum\n",
    "    \n",
    "    \n",
    "print(find_second_maximum([9, 2, 3, 6]))\n"
   ]
  },
  {
   "cell_type": "code",
   "execution_count": 16,
   "metadata": {},
   "outputs": [
    {
     "name": "stdout",
     "output_type": "stream",
     "text": [
      "6\n"
     ]
    }
   ],
   "source": [
    "def find_second_maximum(lst):\n",
    "    if (len(lst) < 2):\n",
    "        return\n",
    "    # initialize the two to infinity\n",
    "    max_no = second_max_no = float('-inf')\n",
    "    for i in range(len(lst)):\n",
    "       # update the max_no if max_no value found\n",
    "       if (lst[i] > max_no):\n",
    "            second_max_no = max_no\n",
    "            max_no = lst[i]\n",
    "       # check if it is the second_max_no and not equal to max_no\n",
    "       elif (lst[i] > second_max_no and lst[i] != max_no):\n",
    "            second_max_no = lst[i]\n",
    "    if (second_max_no == float('-inf')):\n",
    "        return\n",
    "    else:\n",
    "        return second_max_no\n",
    "\n",
    "\n",
    "print(find_second_maximum([9, 2, 3, 6]))"
   ]
  },
  {
   "cell_type": "markdown",
   "metadata": {},
   "source": [
    "Time Complexity #\n",
    "\n",
    "This solution is in O(n) since the list is traversed once only.\n"
   ]
  },
  {
   "cell_type": "code",
   "execution_count": null,
   "metadata": {},
   "outputs": [],
   "source": []
  },
  {
   "cell_type": "markdown",
   "metadata": {},
   "source": [
    "## Challenge 8: Right Rotate List\n",
    "\n",
    "Given a list, can you rotate its elements by one index from right to left?\n",
    "\n",
    "Problem Statement #\n",
    "\n",
    "Implement a function right_rotate(lst, k) which will rotate the given list by k. This means that the right-most elements will appear at the left-most position in the list and so on. You only have to rotate the list by one element at a time.\n",
    "\n",
    "Input #\n",
    "\n",
    "A list and a positive number by which to rotate that list\n",
    "\n",
    "Output: #\n",
    "\n",
    "The given list rotated by k elements\n",
    "\n",
    "Sample Input #\n",
    "\n",
    "lst = [10,20,30,40,50]\n",
    "\n",
    "n = 3\n",
    "\n",
    "Sample Output #\n",
    "\n",
    "lst = [30,40,50,10,20]\n"
   ]
  },
  {
   "cell_type": "code",
   "execution_count": 19,
   "metadata": {},
   "outputs": [
    {
     "name": "stdout",
     "output_type": "stream",
     "text": [
      "[30, 40, 50, 10, 20, 30]\n"
     ]
    }
   ],
   "source": [
    "def right_rotate(lst, k):\n",
    "    if not lst:\n",
    "        k = 0\n",
    "    else:\n",
    "        k = k % len(lst)\n",
    "    return lst[-k:] + lst[:k]\n",
    "    \n",
    "print(right_rotate([10, 20, 30, 40, 50], abs(3)))\n"
   ]
  },
  {
   "cell_type": "markdown",
   "metadata": {},
   "source": [
    "Time Complexity #\n",
    "\n",
    "List slicing is in O(k) where k represents the number of elements that are sliced, and since the entire list is sliced, hence the total time complexity is in O(n).\n"
   ]
  },
  {
   "cell_type": "code",
   "execution_count": null,
   "metadata": {},
   "outputs": [],
   "source": []
  },
  {
   "cell_type": "markdown",
   "metadata": {},
   "source": [
    "## Challenge 9: Rearrange Positive & Negative Values\n",
    "\n",
    "Given a list, can you rearrange its elements in such a way that the negative elements appear at one end and positive elements appear at the other?\n",
    "\n",
    "\n",
    "Problem Statement #\n",
    "\n",
    "Implement a function rearrange(lst) which rearranges the elements such that all the negative elements appear on the left and positive elements appear at the right of the list. Note that it is not necessary to maintain the sorted order of the input list.\n",
    "\n",
    "Generally zero is NOT positive or negative, we will treat zero as a positive integer for this challenge! So, zero will be placed at the right.\n",
    "\n",
    "Output #\n",
    "\n",
    "A list with negative elements at the left and positive elements at the right\n",
    "\n",
    "Sample Input #\n",
    "\n",
    "[10,-1,20,4,5,-9,-6]\n",
    "\n",
    "Sample Output #\n",
    "\n",
    "[-1,-9,-6,10,20,4,5]\n",
    "\n"
   ]
  },
  {
   "cell_type": "code",
   "execution_count": 21,
   "metadata": {},
   "outputs": [
    {
     "name": "stdout",
     "output_type": "stream",
     "text": [
      "[-1, -9, -6, 10, 20, 4, 5]\n"
     ]
    }
   ],
   "source": [
    "def rearrange(lst):\n",
    "    return [el for el in lst if el < 0] + [el for el in lst if el >=0]\n",
    "\n",
    "print(rearrange([10, -1, 20, 4, 5, -9, -6]))\n"
   ]
  },
  {
   "cell_type": "markdown",
   "metadata": {},
   "source": [
    "Time Complexity #\n",
    "\n",
    "The time complexity of the solution is O(n) as it is iterated over twice.\n"
   ]
  },
  {
   "cell_type": "code",
   "execution_count": null,
   "metadata": {},
   "outputs": [],
   "source": []
  },
  {
   "cell_type": "markdown",
   "metadata": {},
   "source": [
    "## Challenge 10: Rearrange Sorted List in Max/Min Form\n",
    "\n",
    "Arrange elements in such a way that the maximum element appears at first position, then minimum at second, then second maximum at third and second minimum at fourth and so on.\n",
    "\n",
    "\n",
    "Problem Statement #\n",
    "\n",
    "Implement a function called max_min(lst) which will re-arrange the elements of a sorted list such that the 0th index will have the largest number, the 1st index will have the smallest, and the 2nd index will have second-largest, and so on. In other words, all the even-numbered indices will have the largest numbers in the list in descending order and the odd-numbered indices will have the smallest numbers in ascending order.\n",
    "\n",
    "Input: #\n",
    "\n",
    "A sorted list\n",
    "\n",
    "Output: #\n",
    "\n",
    "A list with elements stored in max/min form\n",
    "\n",
    "Sample Input #\n",
    "\n",
    "lst = [1,2,3,4,5]\n",
    "\n",
    "Sample Output #\n",
    "\n",
    "lst = [5,1,4,2,3]\n",
    "\n"
   ]
  },
  {
   "cell_type": "code",
   "execution_count": 22,
   "metadata": {},
   "outputs": [
    {
     "name": "stdout",
     "output_type": "stream",
     "text": [
      "[6, 1, 5, 2, 4, 3]\n"
     ]
    }
   ],
   "source": [
    "def max_min(lst):\n",
    "    res = []\n",
    "    for i in range(len(lst)//2):\n",
    "        res.append(lst[-(i+1)])\n",
    "        res.append(lst[i])\n",
    "    if len(lst) % 2 == 1:\n",
    "        res.append(lst[len(lst)//2])\n",
    "    return res\n",
    "    \n",
    "print(max_min([1, 2, 3, 4, 5, 6]))\n"
   ]
  },
  {
   "cell_type": "markdown",
   "metadata": {},
   "source": [
    "Time Complexity #\n",
    "\n",
    "The time complexity of this problem is O(n) as the list is iterated over once.\n"
   ]
  },
  {
   "cell_type": "code",
   "execution_count": 25,
   "metadata": {},
   "outputs": [
    {
     "name": "stdout",
     "output_type": "stream",
     "text": [
      "[9, 0, 8, 1, 7, 2, 6, 3, 5, 4]\n"
     ]
    }
   ],
   "source": [
    "def max_min(lst):\n",
    "    # Return empty list for empty list\n",
    "    if (len(lst) == 0):\n",
    "        return []\n",
    "\n",
    "    maxIdx = len(lst) - 1  # max index\n",
    "    minIdx = 0  # first index\n",
    "    maxElem = lst[-1] + 1  # Max element\n",
    "    # traverse the list\n",
    "    for i in range(len(lst)):\n",
    "        # even number means max element to append\n",
    "        if i % 2 == 0:\n",
    "            lst[i] += (lst[maxIdx] % maxElem) * maxElem\n",
    "            maxIdx -= 1\n",
    "        # odd number means min number\n",
    "        else:\n",
    "            lst[i] += (lst[minIdx] % maxElem) * maxElem\n",
    "            minIdx += 1\n",
    "\n",
    "    for i in range(len(lst)):\n",
    "        lst[i] = lst[i] // maxElem\n",
    "    return lst\n",
    "\n",
    "\n",
    "print(max_min([0, 1, 2, 3, 4, 5, 6, 7, 8, 9]))\n"
   ]
  },
  {
   "cell_type": "markdown",
   "metadata": {},
   "source": [
    "Time Complexity #\n",
    "\n",
    "The time complexity of this solution is in O(n). The space complexity is constant.\n"
   ]
  },
  {
   "cell_type": "code",
   "execution_count": null,
   "metadata": {},
   "outputs": [],
   "source": []
  },
  {
   "cell_type": "markdown",
   "metadata": {},
   "source": [
    "## Challenge 11: Maximum Sum Sublist\n",
    "\n",
    "Given an array, find the contiguous sublist with the largest sum.\n",
    "\n",
    "\n",
    "Problem statement #\n",
    "\n",
    "Given an integer list, return the maximum sublist sum. The list may contain both positive and negative integers and is unsorted.\n",
    "\n",
    "Partial function definition #\n",
    "\n",
    "def find_max_sum_sublist(lst):\n",
    "  pass\n",
    "\n",
    "Input #\n",
    "\n",
    "a list lst\n",
    "\n",
    "Output #\n",
    "\n",
    "a number (maximum subarray sum)\n",
    "\n"
   ]
  },
  {
   "cell_type": "code",
   "execution_count": 27,
   "metadata": {},
   "outputs": [
    {
     "name": "stdout",
     "output_type": "stream",
     "text": [
      "Sum of largest subarray:  12\n"
     ]
    }
   ],
   "source": [
    "# Solution (Kadane’s Algorithm) #\n",
    "# This algorithm takes a dynamic programming approach to solve the maximum sublist sum problem.\n",
    "\n",
    "def find_max_sum_sublist(lst):\n",
    "    if not lst:\n",
    "        return []\n",
    "    cur_max = lst[0]\n",
    "    global_max = lst[0]\n",
    "    for i in range(1, len(lst)):\n",
    "        if cur_max < 0:\n",
    "            cur_max = lst[i]\n",
    "        else:\n",
    "            cur_max += lst[i]\n",
    "        if global_max < cur_max:\n",
    "            global_max = cur_max\n",
    "    return global_max\n",
    "\n",
    "\n",
    "lst = [-4, 2, -5, 1, 2, 3, 6, -5, 1];\n",
    "print(\"Sum of largest subarray: \", find_max_sum_sublist(lst))\n",
    "\n"
   ]
  },
  {
   "cell_type": "markdown",
   "metadata": {},
   "source": [
    "The basic idea of Kadane’s algorithm is to scan the entire list and at each position find the maximum sum of the sublist ending there. This is achieved by keeping a current_max for the current list index and a global_max.\n",
    "\n",
    "Runtime complexity #\n",
    "\n",
    "The runtime complexity of this solution is linear, O(n).\n",
    "\n",
    "Space complexity #\n",
    "\n",
    "The memory complexity of this solution is constant, O(1).\n",
    "\n"
   ]
  },
  {
   "cell_type": "code",
   "execution_count": null,
   "metadata": {},
   "outputs": [],
   "source": []
  },
  {
   "cell_type": "code",
   "execution_count": null,
   "metadata": {},
   "outputs": [],
   "source": []
  },
  {
   "cell_type": "markdown",
   "metadata": {},
   "source": [
    "# Linked Lists\n"
   ]
  },
  {
   "cell_type": "markdown",
   "metadata": {},
   "source": [
    "## Challenge 1: Insertion at Tail\n",
    "\n",
    "Problem Statement #\n",
    "\n",
    "Just as heads and tails are polar opposites, this function is the opposite of what we saw in the last lesson. However, it is just as simple.\n",
    "\n",
    "We need to insert a new object at the end of the linked list. You can naturally guess, that this newly added node will point to None as it is at the tail.\n",
    "\n",
    "Input #\n",
    "\n",
    "A linked list and an integer value.\n",
    "\n",
    "Output #\n",
    "\n",
    "The updated linked list with the value inserted.\n",
    "\n",
    "Sample Input #\n",
    "\n",
    "Linked List = 0->1->2\n",
    "\n",
    "integer = 3\n",
    "\n",
    "Sample Output #\n",
    "\n",
    "Linked List = 0->1->2->3\n",
    "\n"
   ]
  },
  {
   "cell_type": "code",
   "execution_count": 30,
   "metadata": {},
   "outputs": [],
   "source": [
    "class Node:\n",
    "    \n",
    "    def __init__(self, data):\n",
    "        self.data = data\n",
    "        self.next_element = None\n",
    "    "
   ]
  },
  {
   "cell_type": "code",
   "execution_count": 40,
   "metadata": {},
   "outputs": [],
   "source": [
    "class LinkedList:\n",
    "    \n",
    "    def __init__(self):\n",
    "        self.head_node = None\n",
    "\n",
    "    def get_head(self):\n",
    "        return self.head_node\n",
    "\n",
    "    def is_empty(self):\n",
    "        if(self.head_node is None):  # Check whether the head is None\n",
    "            return True\n",
    "        else:\n",
    "            return False\n",
    "\n",
    "    # Supplementary print function\n",
    "    def print_list(self):\n",
    "        if(self.is_empty()):\n",
    "            print(\"List is Empty\")\n",
    "            return False\n",
    "        temp = self.head_node\n",
    "        while temp.next_element is not None:\n",
    "            print(temp.data, end=\" -> \")\n",
    "            temp = temp.next_element\n",
    "        print(temp.data, \"-> None\")\n",
    "        return True\n",
    "    \n",
    "    def insert_at_head(self, dt):\n",
    "        temp_node = Node(dt)\n",
    "        temp_node.next_element = self.head_node\n",
    "        self.head_node = temp_node\n",
    "        return self.head_node\n",
    "\n",
    "    # Inserts a value at the end of the list\n",
    "    def insert_at_tail(self, value):\n",
    "        # Creating a new node\n",
    "        new_node = Node(value)\n",
    "\n",
    "        # Check if the list is empty, if it is simply point head to new node\n",
    "        if self.get_head() is None:\n",
    "            self.head_node = new_node\n",
    "            return\n",
    "\n",
    "        # if list not empty, traverse the list to the last node\n",
    "        temp = self.get_head()\n",
    "\n",
    "        while temp.next_element is not None:\n",
    "            temp = temp.next_element\n",
    "\n",
    "        # Set the nextElement of the previous node to new node\n",
    "        temp.next_element = new_node\n",
    "        return\n",
    "    \n",
    "    "
   ]
  },
  {
   "cell_type": "code",
   "execution_count": 33,
   "metadata": {},
   "outputs": [],
   "source": [
    "def insert_at_tail(lst, value):\n",
    "    new_node = Node(value)\n",
    "    \n",
    "    if lst.get_head() is None:\n",
    "        lst.head_node = new_node\n",
    "        return\n",
    "    \n",
    "    temp = lst.get_head()\n",
    "    \n",
    "    while temp.next_element:\n",
    "        temp = temp.next_element\n",
    "    \n",
    "    temp.next_element = new_node\n",
    "    \n",
    "    return\n",
    "    \n",
    "    \n",
    "    "
   ]
  },
  {
   "cell_type": "code",
   "execution_count": 41,
   "metadata": {},
   "outputs": [
    {
     "name": "stdout",
     "output_type": "stream",
     "text": [
      "List is Empty\n",
      "0 -> None\n",
      "0 -> 1 -> None\n",
      "0 -> 1 -> 2 -> None\n",
      "0 -> 1 -> 2 -> 3 -> None\n"
     ]
    },
    {
     "data": {
      "text/plain": [
       "True"
      ]
     },
     "execution_count": 41,
     "metadata": {},
     "output_type": "execute_result"
    }
   ],
   "source": [
    "lst = LinkedList()\n",
    "lst.print_list()\n",
    "insert_at_tail(lst, 0)\n",
    "lst.print_list()\n",
    "insert_at_tail(lst, 1)\n",
    "lst.print_list()\n",
    "insert_at_tail(lst, 2)\n",
    "lst.print_list()\n",
    "insert_at_tail(lst, 3)\n",
    "lst.print_list()\n"
   ]
  },
  {
   "cell_type": "markdown",
   "metadata": {},
   "source": [
    "Time Complexity #\n",
    "\n",
    "This algorithm traverses the entire linked list and hence, works in O(n) time.\n"
   ]
  },
  {
   "cell_type": "code",
   "execution_count": null,
   "metadata": {},
   "outputs": [],
   "source": []
  },
  {
   "cell_type": "markdown",
   "metadata": {},
   "source": [
    "## Challenge 2: Search in a Singly Linked List\n",
    "\n",
    "Problem Statement #\n",
    "\n",
    "It’s time to figure out how to implement another popular linked list function: search\n",
    "\n",
    "To search for a specific value in a linked list, there is no other approach but to traverse the whole list until we find the desired value.\n",
    "\n",
    "In that sense, the search operation in linked lists is similar to the linear search in normal lists or arrays - all of them take O(n) amount of time.\n",
    "\n",
    "The search algorithm in a linked list can be generalized to the following steps:\n",
    "\n",
    "Start from the head node.\n",
    "Traverse the list till you either find a node with the given value or you reach the end node which will indicate that the given node doesn’t exist in the list.\n",
    "\n",
    "Input #\n",
    "\n",
    "A linked list and an integer to be searched.\n",
    "\n",
    "Output #\n",
    "\n",
    "True if the integer is found. False otherwise.\n",
    "\n",
    "Sample Input #\n",
    "\n",
    "Linked List = 5->90->10->4  \n",
    "Integer = 4\n",
    "\n",
    "Sample Output #\n",
    "\n",
    "True\n"
   ]
  },
  {
   "cell_type": "code",
   "execution_count": 44,
   "metadata": {},
   "outputs": [],
   "source": [
    "\n",
    "def search(lst, value):\n",
    "    cur_node = lst.get_head()\n",
    "    \n",
    "    while cur_node:\n",
    "        if cur_node.data == value:\n",
    "            return True\n",
    "        cur_node = cur_node.next_element\n",
    "    \n",
    "    return False\n",
    "    "
   ]
  },
  {
   "cell_type": "code",
   "execution_count": 45,
   "metadata": {},
   "outputs": [
    {
     "name": "stdout",
     "output_type": "stream",
     "text": [
      "5 -> 40 -> 10 -> 4 -> None\n",
      "True\n"
     ]
    }
   ],
   "source": [
    "lst = LinkedList()\n",
    "lst.insert_at_head(4)\n",
    "lst.insert_at_head(10)\n",
    "lst.insert_at_head(40)\n",
    "lst.insert_at_head(5)\n",
    "lst.print_list()\n",
    "print(search(lst, 4))\n"
   ]
  },
  {
   "cell_type": "markdown",
   "metadata": {},
   "source": [
    "Time Complexity #\n",
    "\n",
    "The time complexity for this algorithm is O(n). However, the space complexity for the recursive approach is also O(n), whereas the iterative solution can do it in O(1) space complexity.\n",
    "\n"
   ]
  },
  {
   "cell_type": "code",
   "execution_count": null,
   "metadata": {},
   "outputs": [],
   "source": []
  },
  {
   "cell_type": "markdown",
   "metadata": {},
   "source": [
    "## Challenge 3: Deletion by Value\n",
    "\n",
    "Problem Statement #\n",
    "\n",
    "In this function, we can pass a particular value that we want to delete from the list. \n",
    "The node containing this value could be anywhere in the list. It is also possible that such a node may not exist at all.\n",
    "\n",
    "Therefore, we would have to traverse the whole list until we find the value which needs to be deleted. If the value doesn’t exist, we do not need to do anything.\n",
    "\n",
    "Input #\n",
    "\n",
    "A linked list and an integer to be deleted.\n",
    "\n",
    "Output #\n",
    "\n",
    "True if the value is deleted. Otherwise, False.\n",
    "\n",
    "\n",
    "Sample Input #\n",
    "\n",
    "LinkedList = 3->2->1->0\n",
    "\n",
    "Integer = 2\n",
    "\n",
    "Sample Output #\n",
    "\n",
    "True\n",
    "\n"
   ]
  },
  {
   "cell_type": "code",
   "execution_count": 46,
   "metadata": {},
   "outputs": [],
   "source": [
    "class LinkedList:\n",
    "    def __init__(self):\n",
    "        self.head_node = None\n",
    "\n",
    "    def get_head(self):\n",
    "        return self.head_node\n",
    "\n",
    "    def is_empty(self):\n",
    "        if(self.head_node is None):  # Check whether the head is None\n",
    "            return True\n",
    "        else:\n",
    "            return False\n",
    "\n",
    "    def insert_at_head(self, dt):\n",
    "        temp_node = Node(dt)\n",
    "        temp_node.next_element = self.head_node\n",
    "        self.head_node = temp_node\n",
    "        return self.head_node\n",
    "\n",
    "    # Inserts a value at the end of the list\n",
    "    def insert_at_tail(self, value):\n",
    "        # Creating a new node\n",
    "        new_node = Node(value)\n",
    "\n",
    "        # Check if the list is empty, if it is simply point head to new node\n",
    "        if self.get_head() is None:\n",
    "            self.head_node = new_node\n",
    "            return\n",
    "\n",
    "        # if list not empty, traverse the list to the last node\n",
    "        temp = self.get_head()\n",
    "\n",
    "        while temp.next_element is not None:\n",
    "            temp = temp.next_element\n",
    "\n",
    "        # Set the nextElement of the previous node to new node\n",
    "        temp.next_element = new_node\n",
    "        return\n",
    "\n",
    "    def print_list(self):\n",
    "        if(self.is_empty()):\n",
    "            print(\"List is Empty\")\n",
    "            return False\n",
    "        temp = self.head_node\n",
    "        while temp.next_element is not None:\n",
    "            print(temp.data, end=\" -> \")\n",
    "            temp = temp.next_element\n",
    "        print(temp.data, \"-> None\")\n",
    "        return True\n",
    "\n",
    "    def delete_at_head(self):\n",
    "        # Get Head and firstElement of List\n",
    "        first_element = self.get_head()\n",
    "        # If List is not empty then link head to the\n",
    "        # nextElement of firstElement.\n",
    "        if (first_element is not None):\n",
    "            self.head_node = first_element.next_element\n",
    "            first_element.next_element = None\n",
    "        return\n",
    "\n",
    "    def length(self):\n",
    "        # start from the first element\n",
    "        curr = self.get_head()\n",
    "        length = 0\n",
    "\n",
    "        # Traverse the list and count the number of nodes\n",
    "        while curr is not None:\n",
    "            length += 1\n",
    "            curr = curr.next_element\n",
    "        return length\n",
    "\n",
    "    def search(self, dt):\n",
    "        if self.is_empty():\n",
    "            print(\"List is Empty\")\n",
    "            return None\n",
    "        temp = self.head_node\n",
    "        while(temp is not None):\n",
    "            if(temp.data is dt):\n",
    "                return temp\n",
    "            temp = temp.next_element\n",
    "\n",
    "        print(dt, \" is not in List!\")\n",
    "        return None\n",
    "    \n",
    "    "
   ]
  },
  {
   "cell_type": "code",
   "execution_count": 47,
   "metadata": {},
   "outputs": [
    {
     "name": "stdout",
     "output_type": "stream",
     "text": [
      "2 -> 3 -> 4 -> 1 -> None\n",
      "4 deleted!\n",
      "2 -> 3 -> 1 -> None\n"
     ]
    },
    {
     "data": {
      "text/plain": [
       "True"
      ]
     },
     "execution_count": 47,
     "metadata": {},
     "output_type": "execute_result"
    }
   ],
   "source": [
    "def delete(lst, value):\n",
    "    deleted = False\n",
    "    if lst.is_empty():  # Check if list is empty -> Return False\n",
    "        print(\"List is Empty\")\n",
    "        return deleted\n",
    "    current_node = lst.get_head()  # Get current node\n",
    "    previous_node = None  # Get previous node\n",
    "    if current_node.data == value:\n",
    "        lst.delete_at_head()  # Use the previous function\n",
    "        deleted = True\n",
    "        return deleted\n",
    "\n",
    "    # Traversing/Searching for Node to Delete\n",
    "    while current_node is not None:\n",
    "        # Node to delete is found\n",
    "        if value == current_node.data:\n",
    "            # previous node now points to next node\n",
    "            previous_node.next_element = current_node.next_element\n",
    "            current_node.next_element = None\n",
    "            deleted = True\n",
    "            break\n",
    "        previous_node = current_node\n",
    "        current_node = current_node.next_element\n",
    "\n",
    "    if deleted == False:\n",
    "        print(str(value) + \" is not in list!\")\n",
    "    else:\n",
    "        print(str(value) + \" deleted!\")\n",
    "\n",
    "    return deleted\n",
    "\n",
    "\n",
    "lst = LinkedList()\n",
    "lst.insert_at_head(1)\n",
    "lst.insert_at_head(4)\n",
    "lst.insert_at_head(3)\n",
    "lst.insert_at_head(2)\n",
    "lst.print_list()\n",
    "delete(lst, 4)\n",
    "lst.print_list()\n",
    "\n"
   ]
  },
  {
   "cell_type": "markdown",
   "metadata": {},
   "source": [
    "Time Complexity #\n",
    "\n",
    "In the worst case, you would have to traverse until the end of the list. \n",
    "This means the time complexity will be O(n).\n",
    "\n"
   ]
  },
  {
   "cell_type": "code",
   "execution_count": null,
   "metadata": {},
   "outputs": [],
   "source": []
  },
  {
   "cell_type": "markdown",
   "metadata": {},
   "source": [
    "## Challenge 4: Find the Length of a Linked List\n",
    "\n",
    "Problem Statement #\n",
    "\n",
    "In this problem, you have to implement the length() function which will find the length of a given linked list.\n",
    "\n",
    "Input #\n",
    "\n",
    "A linked list.\n",
    "\n",
    "Output #\n",
    "\n",
    "The number of nodes in the list.\n",
    "\n",
    "Sample Input #\n",
    "\n",
    "linkedlist = 0->1->2->3->4\n",
    "\n",
    "Sample Output #\n",
    "\n",
    "5\n",
    "\n"
   ]
  },
  {
   "cell_type": "code",
   "execution_count": 48,
   "metadata": {},
   "outputs": [
    {
     "name": "stdout",
     "output_type": "stream",
     "text": [
      "5\n"
     ]
    }
   ],
   "source": [
    "def length(lst):\n",
    "    # start from the first element\n",
    "    curr = lst.get_head()\n",
    "    length = 0\n",
    "\n",
    "    # Traverse the list and count the number of nodes\n",
    "    while curr:\n",
    "        length += 1\n",
    "        curr = curr.next_element\n",
    "    return length\n",
    "\n",
    "\n",
    "lst = LinkedList()\n",
    "lst.insert_at_head(4)\n",
    "lst.insert_at_head(3)\n",
    "lst.insert_at_head(2)\n",
    "lst.insert_at_head(1)\n",
    "lst.insert_at_head(0)\n",
    "print(length(lst))\n",
    "\n"
   ]
  },
  {
   "cell_type": "markdown",
   "metadata": {},
   "source": [
    "Time Complexity #\n",
    "\n",
    "Since this is a linear algorithm, the time complexity will be O(n).\n"
   ]
  },
  {
   "cell_type": "code",
   "execution_count": null,
   "metadata": {},
   "outputs": [],
   "source": []
  },
  {
   "cell_type": "markdown",
   "metadata": {},
   "source": [
    "## Challenge 5: Reverse a Linked List\n",
    "\n",
    "Problem Statement #\n",
    "\n",
    "You have to define the reverse function, which takes a singly linked list and produces the exact opposite list, i.e., the links of the output linked list should be reversed.\n",
    "\n",
    "Input #\n",
    "\n",
    "A singly linked list.\n",
    "\n",
    "Output #\n",
    "\n",
    "The reversed linked list.\n",
    "\n",
    "Sample Input #\n",
    "\n",
    "The input linked list object:\n",
    "\n",
    "LinkedList = 0->1->2->3-4\n",
    "\n",
    "Sample Output #\n",
    "\n",
    "The reversed linked list:\n",
    "\n",
    "LinkedList = 4->3->2->1->0\n",
    "\n"
   ]
  },
  {
   "cell_type": "code",
   "execution_count": 49,
   "metadata": {},
   "outputs": [],
   "source": [
    "def reverse(lst):\n",
    "    pre_node = None\n",
    "    cur_node = lst.get_head()\n",
    "    nxt_node = None\n",
    "    \n",
    "    while cur_node:\n",
    "        nxt_node = cur_node.next_element\n",
    "        cur_node.next_element = pre_node\n",
    "        pre_node = cur_node\n",
    "        cur_node = nxt_node\n",
    "    \n",
    "        lst.head_node = pre_node\n",
    "        \n",
    "    return lst\n",
    "    \n",
    "    "
   ]
  },
  {
   "cell_type": "code",
   "execution_count": 50,
   "metadata": {},
   "outputs": [
    {
     "name": "stdout",
     "output_type": "stream",
     "text": [
      "10 -> 9 -> 4 -> 6 -> None\n"
     ]
    },
    {
     "data": {
      "text/plain": [
       "True"
      ]
     },
     "execution_count": 50,
     "metadata": {},
     "output_type": "execute_result"
    }
   ],
   "source": [
    "lst = LinkedList()\n",
    "lst.insert_at_head(6)\n",
    "lst.insert_at_head(4)\n",
    "lst.insert_at_head(9)\n",
    "lst.insert_at_head(10)\n",
    "lst.print_list()\n"
   ]
  },
  {
   "cell_type": "markdown",
   "metadata": {},
   "source": [
    "The brain of this solution lies in the loop which iterates through the list. For any current node, its link with the previous node is reversed and next stores the next node in the list:\n",
    "\n",
    "- Store the current node’s next_element in next\n",
    "- Set current node’s next_element to previous (reversal)\n",
    "- Make the current node the new previous so that it can be used for the next iteration\n",
    "- Use next to move on to the next node\n",
    "\n",
    "In the end, we simply point the head to the last node in our loop.\n",
    "\n",
    "Time Complexity #\n",
    "\n",
    "The algorithm runs in O(n) since the list is traversed once.\n"
   ]
  },
  {
   "cell_type": "code",
   "execution_count": null,
   "metadata": {},
   "outputs": [],
   "source": []
  },
  {
   "cell_type": "markdown",
   "metadata": {},
   "source": [
    "## Challenge 6: Detect Loop in a Linked List\n",
    "\n",
    "\n",
    "Problem Statement #\n",
    "\n",
    "By definition, a loop is formed when a node in your linked list points to a previously traversed node.\n",
    "\n",
    "You must implement the detect_loop() function which will take a linked list as input and deduce whether or not a loop is present.\n",
    "\n",
    "Input #\n",
    "\n",
    "A singly linked list.\n",
    "\n",
    "Output #\n",
    "\n",
    "Returns True if the given linked list contains a loop. Otherwise, it returns False\n",
    "\n",
    "Sample Input #\n",
    "\n",
    "LinkedList = 7->14->21->7 # Both '7's are the same node. Not duplicates.\n",
    "\n",
    "\n",
    "Sample Output #\n",
    "\n",
    "True\n"
   ]
  },
  {
   "cell_type": "code",
   "execution_count": 51,
   "metadata": {},
   "outputs": [],
   "source": [
    "# Floyd's Cycle Finding Algorithm\n",
    "def detect_loop(lst):\n",
    "    # Keep two iterators\n",
    "    onestep = lst.get_head()\n",
    "    twostep = lst.get_head()\n",
    "    while onestep and twostep and twostep.next_element:\n",
    "        onestep = onestep.next_element  # Moves one node at a time\n",
    "        twostep = twostep.next_element.next_element  # Skips a node\n",
    "        if onestep == twostep:  # Loop exists\n",
    "            return True\n",
    "    return False\n",
    "\n"
   ]
  },
  {
   "cell_type": "markdown",
   "metadata": {},
   "source": [
    "Time Complexity #\n",
    "\n",
    "We iterate the list once. On average, lookup in a list takes O(1) time, which makes the total running time of this solution O(n). \n",
    "\n",
    "However, if we use sets in place of lists to store visited nodes , then a single look-up may take O(n) time. This can cause the algorithm to take O(n^2) time.\n"
   ]
  },
  {
   "cell_type": "code",
   "execution_count": null,
   "metadata": {},
   "outputs": [],
   "source": []
  },
  {
   "cell_type": "markdown",
   "metadata": {},
   "source": [
    "## Challenge 7: Find Middle Node of Linked List\n",
    "\n",
    "Problem Statement #\n",
    "\n",
    "You have to implement the find_mid() function which will take a linked list as an input and return the value of the middle node. If the length of the list is even, the middle value will occur at \\frac{length}{2} length. For a list of odd length, the middle value will be \\frac{length}{2}+1 length+1.\n",
    "\n",
    "Input #\n",
    "\n",
    "A singly linked list.\n",
    "\n",
    "Output #\n",
    "\n",
    "The integer value of the middle node.\n",
    "\n",
    "Sample Input #\n",
    "\n",
    "LinkedList = 7->14->10->21\n",
    "\n",
    "Sample Output #\n",
    "\n",
    "14\n",
    "\n"
   ]
  },
  {
   "cell_type": "code",
   "execution_count": 52,
   "metadata": {},
   "outputs": [
    {
     "name": "stdout",
     "output_type": "stream",
     "text": [
      "7 -> 14 -> 10 -> 21 -> 22 -> None\n",
      "10\n"
     ]
    }
   ],
   "source": [
    "def find_mid(lst):\n",
    "    if lst.is_empty():\n",
    "        return None\n",
    "\n",
    "    node = lst.get_head()\n",
    "    mid = 0\n",
    "    if lst.length() % 2 == 0:\n",
    "        mid = lst.length()//2\n",
    "    else:\n",
    "        mid = lst.length()//2 + 1\n",
    "\n",
    "    for i in range(mid - 1):\n",
    "        node = node.next_element\n",
    "\n",
    "    return node.data\n",
    "\n",
    "\n",
    "lst = LinkedList()\n",
    "lst.insert_at_head(22)\n",
    "lst.insert_at_head(21)\n",
    "lst.insert_at_head(10)\n",
    "lst.insert_at_head(14)\n",
    "lst.insert_at_head(7)\n",
    "\n",
    "lst.print_list()\n",
    "print(find_mid(lst))\n",
    "\n",
    "\n"
   ]
  },
  {
   "cell_type": "markdown",
   "metadata": {},
   "source": [
    "Time Complexity #\n",
    "\n",
    "The algorithm makes a linear traversal over the list. Hence, the time complexity is O(n).\n",
    "\n"
   ]
  },
  {
   "cell_type": "code",
   "execution_count": 53,
   "metadata": {},
   "outputs": [],
   "source": [
    "def find_mid(lst):\n",
    "    if lst.is_empty():\n",
    "        return -1\n",
    "    current_node = lst.get_head()\n",
    "    if current_node.next_element == None:\n",
    "        #Only 1 element exist in array so return its value.\n",
    "        return current_node.data\n",
    "\n",
    "    mid_node = current_node\n",
    "    current_node = current_node.next_element.next_element\n",
    "    #Move mid_node (Slower) one step at a time\n",
    "    #Move current_node (Faster) two steps at a time\n",
    "    #When current_node reaches at end, mid_node will be at the middle of List \n",
    "    while current_node:\n",
    "        mid_node = mid_node.next_element\n",
    "        current_node = current_node.next_element\n",
    "        if current_node:\n",
    "            current_node = current_node.next_element\n",
    "        if mid_node:\n",
    "            return mid_node.data\n",
    "    return -1\n",
    "\n"
   ]
  },
  {
   "cell_type": "markdown",
   "metadata": {},
   "source": [
    "This solution is more efficient as compared to the brute force method. \n",
    "We will use two pointers which will work simultaneously.\n",
    "\n",
    "Think of it this way:\n",
    "\n",
    "- The fast pointer moves two steps at a time till the end of the list\n",
    "- The slow pointer moves one step at a time\n",
    "- when the fast pointer reaches the end, the slow pointer will be at the middle\n",
    "\n",
    "Using this algorithm, we can make the process faster because the calculation of the length and the traversal till the middle are happening side-by-side.\n",
    "\n",
    "Time Complexity #\n",
    "\n",
    "We are traversing the linked list at twice the speed, so it is certainly faster. \n",
    "However, the bottleneck complexity is still O(n).\n",
    "\n"
   ]
  },
  {
   "cell_type": "code",
   "execution_count": null,
   "metadata": {},
   "outputs": [],
   "source": []
  },
  {
   "cell_type": "markdown",
   "metadata": {},
   "source": [
    "## Challenge 8: Remove Duplicates from Linked List\n",
    "\n",
    "Problem Statement #\n",
    "\n",
    "You will now be implementing the remove_duplicates() function. When a linked list is passed to this function, it removes any node which is a duplicate of another existing node.\n",
    "\n",
    "Input #\n",
    "\n",
    "A linked list.\n",
    "\n",
    "Output #\n",
    "\n",
    "A list with all the duplicates removed.\n",
    "\n",
    "Sample Input #\n",
    "\n",
    "LinkedList = 1->2->2->2->3->4->4->5->6\n",
    "\n",
    "Sample Output #\n",
    "\n",
    "LinkedList = 1->2->3->4->5->6\n",
    "\n"
   ]
  },
  {
   "cell_type": "code",
   "execution_count": 54,
   "metadata": {},
   "outputs": [],
   "source": [
    "def remove_duplicates(lst):\n",
    "    if lst.is_empty():\n",
    "        return None\n",
    "\n",
    "    # If list only has one node, leave it unchanged\n",
    "    if lst.get_head().next_element is None:\n",
    "        return lst\n",
    "\n",
    "    outer_node = lst.get_head()\n",
    "    while outer_node:\n",
    "        inner_node = outer_node  # Iterator for the inner loop\n",
    "        while inner_node:\n",
    "            if inner_node.next_element:\n",
    "                if outer_node.data == inner_node.next_element.data:\n",
    "                    # Duplicate found, so now removing it\n",
    "                    new_next_element = inner_node.next_element.next_element\n",
    "                    inner_node.next_element = new_next_element\n",
    "                else:\n",
    "                    # Otherwise simply iterate ahead\n",
    "                    inner_node = inner_node.next_element\n",
    "            else:\n",
    "                # Otherwise simply iterate ahead\n",
    "                inner_node = inner_node.next_element\n",
    "        outer_node = outer_node.next_element\n",
    "\n",
    "    return lst\n",
    "\n"
   ]
  },
  {
   "cell_type": "code",
   "execution_count": 55,
   "metadata": {},
   "outputs": [
    {
     "name": "stdout",
     "output_type": "stream",
     "text": [
      "7 -> 14 -> 21 -> 14 -> 22 -> 7 -> 7 -> 7 -> None\n",
      "7 -> 14 -> 21 -> 22 -> None\n"
     ]
    },
    {
     "data": {
      "text/plain": [
       "True"
      ]
     },
     "execution_count": 55,
     "metadata": {},
     "output_type": "execute_result"
    }
   ],
   "source": [
    "lst = LinkedList()\n",
    "lst.insert_at_head(7)\n",
    "lst.insert_at_head(7)\n",
    "lst.insert_at_head(7)\n",
    "lst.insert_at_head(22)\n",
    "lst.insert_at_head(14)\n",
    "lst.insert_at_head(21)\n",
    "lst.insert_at_head(14)\n",
    "lst.insert_at_head(7)\n",
    "\n",
    "lst.print_list()\n",
    "remove_duplicates(lst)\n",
    "lst.print_list()\n",
    "\n"
   ]
  },
  {
   "cell_type": "markdown",
   "metadata": {},
   "source": [
    "Time Complexity #\n",
    "\n",
    "The nested while loops increase this program’s complexity to O(n2).\n"
   ]
  },
  {
   "cell_type": "code",
   "execution_count": null,
   "metadata": {},
   "outputs": [],
   "source": []
  },
  {
   "cell_type": "markdown",
   "metadata": {},
   "source": [
    "## Challenge 9: Union & Intersection of Linked Lists\n",
    "\n",
    "\n",
    "Problem Statement #\n",
    "\n",
    "Union and intersection are two of the most popular operations which can be performed on data sets. Now, you will be implementing them for linked lists! Let’s take a look at their definitions:\n",
    "\n",
    "Union #\n",
    "\n",
    "Given two lists, A and B, the union is the list that contains elements or objects that belong to either A, B, or to both.\n",
    "\n",
    "Intersection #\n",
    "\n",
    "Given two lists, A and B, the intersection is the largest list which contains all the elements that are common to both the sets.\n",
    "\n",
    "The union function will take two linked lists and return their union.\n",
    "\n",
    "The intersection function will return all the elements that are common between two linked lists.\n",
    "\n",
    "Input #\n",
    "\n",
    "Two linked lists.\n",
    "\n",
    "Output #\n",
    "\n",
    "A list containing the union of the two lists.\n",
    "A list containing the intersection of the two lists.\n",
    "\n",
    "\n",
    "Sample Input #\n",
    "\n",
    "list1 = 10->20->80->60\n",
    "\n",
    "list2 = 15->20->30->60->45\n",
    "\n",
    "Sample Output #\n",
    "\n",
    "union = 10->20->80->60->15->30->45\n",
    "\n",
    "intersection = 20->60\n",
    "\n",
    "\n"
   ]
  },
  {
   "cell_type": "code",
   "execution_count": null,
   "metadata": {},
   "outputs": [],
   "source": []
  },
  {
   "cell_type": "code",
   "execution_count": 58,
   "metadata": {},
   "outputs": [],
   "source": [
    "class Node:\n",
    "    def __init__(self, data):\n",
    "        self.data = data\n",
    "        self.next_element = None\n",
    "        \n",
    "        \n",
    "class LinkedList:\n",
    "    def __init__(self):\n",
    "        self.head_node = None\n",
    "\n",
    "    def get_head(self):\n",
    "        return self.head_node\n",
    "\n",
    "    def is_empty(self):\n",
    "        if(self.head_node is None):  # Check whether the head is None\n",
    "            return True\n",
    "        else:\n",
    "            return False\n",
    "\n",
    "    def insert_at_head(self, dt):\n",
    "        temp_node = Node(dt)\n",
    "        if(self.is_empty()):\n",
    "            self.head_node = temp_node\n",
    "            return self.head_node\n",
    "\n",
    "        temp_node.next_element = self.head_node\n",
    "        self.head_node = temp_node\n",
    "        return self.head_node\n",
    "\n",
    "    # Inserts a value at the end of the list\n",
    "    def insert_at_tail(self, value):\n",
    "        # Creating a new node\n",
    "        new_node = Node(value)\n",
    "\n",
    "        # Check if the list is empty, if it is simply point head to new node\n",
    "        if self.get_head() is None:\n",
    "            self.head_node = new_node\n",
    "            return\n",
    "\n",
    "        # if list not empty, traverse the list to the last node\n",
    "        temp = self.get_head()\n",
    "\n",
    "        while temp.next_element is not None:\n",
    "            temp = temp.next_element\n",
    "\n",
    "        # Set the nextElement of the previous node to new node\n",
    "        temp.next_element = new_node\n",
    "        return\n",
    "\n",
    "    def length(self):\n",
    "        # start from the first element\n",
    "        curr = self.get_head()\n",
    "        length = 0\n",
    "\n",
    "        # Traverse the list and count the number of nodes\n",
    "        while curr is not None:\n",
    "            length += 1\n",
    "            curr = curr.next_element\n",
    "        return length\n",
    "\n",
    "    def print_list(self):\n",
    "        if(self.is_empty()):\n",
    "            print(\"List is Empty\")\n",
    "            return False\n",
    "        temp = self.head_node\n",
    "        while temp.next_element is not None:\n",
    "            print(temp.data, end=\" -> \")\n",
    "            temp = temp.next_element\n",
    "        print(temp.data, \"-> None\")\n",
    "        return True\n",
    "\n",
    "    def delete_at_head(self):\n",
    "        # Get Head and firstElement of List\n",
    "        first_element = self.get_head()\n",
    "        # If List is not empty then link head to the\n",
    "        # nextElement of firstElement.\n",
    "        if (first_element is not None):\n",
    "            self.head_node = first_element.next_element\n",
    "            first_element.next_element = None\n",
    "        return\n",
    "\n",
    "    def delete(self, value):\n",
    "        deleted = False\n",
    "        if self.is_empty():  # Check if list is empty -> Return False\n",
    "            print(\"List is Empty\")\n",
    "            return deleted\n",
    "        current_node = self.get_head()  # Get current node\n",
    "        previous_node = None  # Get previous node\n",
    "        if current_node.data is value:\n",
    "            self.delete_at_head()  # Use the previous function\n",
    "            deleted = True\n",
    "            return deleted\n",
    "\n",
    "        # Traversing/Searching for Node to Delete\n",
    "        while current_node is not None:\n",
    "            # Node to delete is found\n",
    "            if value is current_node.data:\n",
    "                # previous node now points to next node\n",
    "                previous_node.next_element = current_node.next_element\n",
    "                current_node.next_element = None\n",
    "                deleted = True\n",
    "                break\n",
    "            previous_node = current_node\n",
    "            current_node = current_node.next_element\n",
    "\n",
    "        return deleted\n",
    "\n",
    "    def search(self, dt):\n",
    "        if self.is_empty():\n",
    "            print(\"List is Empty\")\n",
    "            return None\n",
    "        temp = self.head_node\n",
    "        while(temp is not None):\n",
    "            if(temp.data is dt):\n",
    "                return temp\n",
    "            temp = temp.next_element\n",
    "\n",
    "        print(dt, \" is not in List!\")\n",
    "        return None\n",
    "\n",
    "    def remove_duplicates(self):\n",
    "        if self.is_empty():\n",
    "            return\n",
    "\n",
    "        # If list only has one node, leave it unchanged\n",
    "        if self.get_head().next_element is None:\n",
    "            return\n",
    "\n",
    "        outer_node = self.get_head()\n",
    "        while outer_node:\n",
    "            inner_node = outer_node  # Iterator for the inner loop\n",
    "            while inner_node:\n",
    "                if inner_node.next_element:\n",
    "                    if outer_node.data == inner_node.next_element.data:\n",
    "                        # Duplicate found, so now removing it\n",
    "                        new_next_element = inner_node.next_element.next_element\n",
    "                        inner_node.next_element = new_next_element\n",
    "                    else:\n",
    "                        # Otherwise simply iterate ahead\n",
    "                        inner_node = inner_node.next_element\n",
    "                else:\n",
    "                    # Otherwise simply iterate ahead\n",
    "                    inner_node = inner_node.next_element\n",
    "            outer_node = outer_node.next_element\n",
    "        return\n",
    "    "
   ]
  },
  {
   "cell_type": "code",
   "execution_count": 59,
   "metadata": {},
   "outputs": [
    {
     "name": "stdout",
     "output_type": "stream",
     "text": [
      "List 1\n",
      "15 -> 22 -> 8 -> None\n",
      "List 2\n",
      "7 -> 14 -> 21 -> None\n",
      "Union of list 1 and 2\n",
      "15 -> 22 -> 8 -> 7 -> 14 -> 21 -> None\n"
     ]
    },
    {
     "data": {
      "text/plain": [
       "True"
      ]
     },
     "execution_count": 59,
     "metadata": {},
     "output_type": "execute_result"
    }
   ],
   "source": [
    "def union(list1, list2):\n",
    "    # Return other List if one of them is empty\n",
    "    if (list1.is_empty()):\n",
    "        return list2\n",
    "    elif (list2.is_empty()):\n",
    "        return list1\n",
    "\n",
    "    start = list1.get_head()\n",
    "\n",
    "    # Traverse the first list till the tail\n",
    "    while start.next_element:\n",
    "        start = start.next_element\n",
    "\n",
    "    # Link last element of first list to the first element of second list\n",
    "    start.next_element = list2.get_head()\n",
    "    list1.remove_duplicates()\n",
    "    return list1\n",
    "\n",
    "\n",
    "ulist1 = LinkedList()\n",
    "ulist2 = LinkedList()\n",
    "ulist1.insert_at_head(8)\n",
    "ulist1.insert_at_head(22)\n",
    "ulist1.insert_at_head(15)\n",
    "\n",
    "print(\"List 1\")\n",
    "ulist1.print_list()\n",
    "\n",
    "ulist2.insert_at_head(21)\n",
    "ulist2.insert_at_head(14)\n",
    "ulist2.insert_at_head(7)\n",
    "\n",
    "print(\"List 2\")\n",
    "ulist2.print_list()\n",
    "\n",
    "new_list = union(ulist1,ulist2)\n",
    "\n",
    "print(\"Union of list 1 and 2\")\n",
    "new_list.print_list()\n",
    "\n"
   ]
  },
  {
   "cell_type": "code",
   "execution_count": null,
   "metadata": {},
   "outputs": [],
   "source": []
  },
  {
   "cell_type": "markdown",
   "metadata": {},
   "source": [
    "## Challenge 10: Return the Nth node from End\n",
    "\n",
    "Problem Statement: #\n",
    "\n",
    "In the find_nth function, a certain N is specified as an argument. You simply need to return the node which is N spaces away from the None end of the linked list.\n",
    "\n",
    "Input #\n",
    "\n",
    "A linked list and a position N.\n",
    "\n",
    "Output #\n",
    "\n",
    "The value of the node n positions from the end. Returns -1 if n is out of bounds.\n",
    "\n",
    "Sample Input #\n",
    "\n",
    "LinkedList = 22->18->60->78->47->39->99 and n = 3\n",
    "\n",
    "Sample Output #\n",
    "\n",
    "47\n",
    "\n"
   ]
  },
  {
   "cell_type": "code",
   "execution_count": 60,
   "metadata": {},
   "outputs": [],
   "source": [
    "def find_nth(lst, n):\n",
    "\n",
    "    if lst.is_empty():\n",
    "        return -1\n",
    "\n",
    "    nth_node = lst.get_head()  # This iterator will reach the Nth node\n",
    "    end_node = lst.get_head()  # This iterator will reach the end of the list\n",
    "\n",
    "    count = 0\n",
    "    while count < n:\n",
    "        if end_node is None:\n",
    "            return -1\n",
    "        end_node = end_node.next_element\n",
    "        count += 1\n",
    "\n",
    "    while end_node is not None:\n",
    "        end_node = end_node.next_element\n",
    "        nth_node = nth_node.next_element\n",
    "\n",
    "    return nth_node.data\n",
    "\n"
   ]
  },
  {
   "cell_type": "code",
   "execution_count": 61,
   "metadata": {},
   "outputs": [
    {
     "name": "stdout",
     "output_type": "stream",
     "text": [
      "15 -> 22 -> 8 -> 7 -> 14 -> 21 -> None\n",
      "-1\n",
      "22\n"
     ]
    }
   ],
   "source": [
    "lst = LinkedList()\n",
    "lst.insert_at_head(21)\n",
    "lst.insert_at_head(14)\n",
    "lst.insert_at_head(7)\n",
    "lst.insert_at_head(8)\n",
    "lst.insert_at_head(22)\n",
    "lst.insert_at_head(15)\n",
    "\n",
    "lst.print_list()\n",
    "\n",
    "print(find_nth(lst, 19))\n",
    "print(find_nth(lst, 5))\n",
    "\n"
   ]
  },
  {
   "cell_type": "markdown",
   "metadata": {},
   "source": [
    "This is the more efficient approach, although it is not an unfamiliar one. Here’s the flow of the algorithm:\n",
    "\n",
    "- Move end_node forward n times, while nth_node stays at the head\n",
    "- If end_node becomes None, n was out of bounds of the array. Return -1 to indicate that the node is not found.\n",
    "- Once end_node is at nth position from the start, move both end_node and nth_node pointers simultaneously.\n",
    "- When end_node reaches the end, nth_node is at the Nth position from the end\n",
    "- Return the node’s value\n",
    "\n",
    "This algorithm also works in O(n) time complexity, but it still adopts the policy of one iteration over the whole list. We do not need to keep track of the length of the list.\n",
    "\n",
    "Time Complexity #\n",
    "\n",
    "A single iteration is performed, which means that time complexity is O(n).\n",
    "\n"
   ]
  },
  {
   "cell_type": "code",
   "execution_count": null,
   "metadata": {},
   "outputs": [],
   "source": []
  },
  {
   "cell_type": "markdown",
   "metadata": {},
   "source": [
    "## Intersection Point of Two Lists\n",
    "\n",
    "\n",
    "Given the head nodes of two linked lists that may or may not intersect, find out if they intersect and return the point of intersection. Return null otherwise.\n",
    "\n",
    "Description #\n",
    "\n",
    "Given the head nodes of two linked lists that may or may not intersect, find out if they do in fact intersect and return the point of intersection. Return null otherwise.\n",
    "\n"
   ]
  },
  {
   "cell_type": "code",
   "execution_count": 64,
   "metadata": {},
   "outputs": [],
   "source": [
    "def get_length(head):\n",
    "    list_length = 0\n",
    "    while head:\n",
    "        head = head.next\n",
    "        list_length += 1\n",
    "    return list_length\n",
    "\n",
    "\n",
    "def intersect(head1, head2):\n",
    "    list1node = None\n",
    "    list1length = get_length(head1)\n",
    "    list2node = None\n",
    "    list2length = get_length(head2)\n",
    "\n",
    "    length_difference = 0\n",
    "    if list1length >= list2length :\n",
    "        length_difference = list1length - list2length\n",
    "        list1node = head1\n",
    "        list2node = head2\n",
    "    else:\n",
    "        length_difference = list2length - list1length\n",
    "        list1node = head2\n",
    "        list2node = head1\n",
    "\n",
    "    while length_difference > 0:\n",
    "        list1node = list1node.next\n",
    "        length_difference-=1\n",
    "\n",
    "    while list1node:\n",
    "        if list1node == list2node:\n",
    "            return list1node\n",
    "\n",
    "        list1node = list1node.next\n",
    "        list2node = list2node.next\n",
    "        \n",
    "    return None\n",
    "\n",
    "\n",
    "\n",
    "# list_head_1 = create_linked_list([13,4])\n",
    "# list_head_2 = create_linked_list([29,23,82,11])\n",
    "# node1 = LinkedListNode(12)\n",
    "# node2 = LinkedListNode(27)\n",
    "\n",
    "# insert_at_tail(list_head_1, node1)\n",
    "# insert_at_tail(list_head_1, node2)\n",
    "\n",
    "# insert_at_tail(list_head_2, node1)\n",
    "\n",
    "# print(\"List 1: \", end=\"\")\n",
    "# display(list_head_1)\n",
    "# print(\"List 2: \", end=\"\")\n",
    "# display(list_head_2)\n",
    "\n",
    "# intersect_node = intersect(list_head_1, list_head_2)\n",
    "# print(\"Intersect at \" + str(intersect_node.data))\n",
    "\n"
   ]
  },
  {
   "cell_type": "markdown",
   "metadata": {},
   "source": [
    "Solution #\n",
    "\n",
    "Runtime complexity #\n",
    "\n",
    "The runtime complexity of this solution is linear, O(m + n).\n",
    "\n",
    "Where m is the length of the first linked list and n is the length of the second linked list.\n",
    "\n",
    "Memory complexity #\n",
    "\n",
    "The memory complexity of this solution is constant, O(1).\n",
    "\n",
    "The first solution that comes to mind is one with quadratic time complexity, i.e., for each node in the first linked list, a linear scan must be done in the second linked list. \n",
    "If any node from the first linked list is found in the second linked list (comparing addresses of nodes, not their data), that is the intersection point.\n",
    "However, if none of the nodes from the first list is found in the second list, that means there is no intersection point.\n",
    "\n",
    "Although this works, it is not efficient. A more efficient solution would be to store the nodes of the first linked list in a HashSet and then go through the second linked list nodes to check whether any of the nodes exist in the HashSet. This approach has a linear runtime complexity and linear space complexity.\n",
    "\n",
    "We can use a much better, i.e., O(m + n), linear time complexity algorithm that doesn’t require extra memory. \n",
    "To simplify our problem, let’s say both the linked lists are of the same size. In this case, you can start from the heads of both lists and compare their addresses. If these addresses match, it means it is an intersection point. If they don’t match, move both pointers forward one step and compare their addresses. Repeat this process until an intersection point is found, or both of the lists are exhausted. How do we solve this problem if the lists are not of the same length? We can extend the linear time solution with one extra scan on the linked lists to find their lengths. Below is the complete algorithm:\n",
    "\n",
    "\n",
    "- Find lengths of both linked lists: L1 and L2\n",
    "- Calculate the difference in length of both linked lists: d = |L1 - L2|\n",
    "- Move head pointer of longer list 'd' steps forward\n",
    "- Now traverse both lists, comparing nodes until we find a match or reach the end of lists\n",
    "\n"
   ]
  },
  {
   "cell_type": "code",
   "execution_count": null,
   "metadata": {},
   "outputs": [],
   "source": []
  },
  {
   "cell_type": "markdown",
   "metadata": {},
   "source": [
    "## Happy Number (medium)\n",
    "\n",
    "Problem Statement #\n",
    "\n",
    "Any number will be called a happy number if, after repeatedly replacing it with a number equal to the **sum of the square of all of its digits, leads us to number ‘1’**. All other (not-happy) numbers will never reach ‘1’. Instead, they will be stuck in a cycle of numbers which does not include ‘1’.\n",
    "\n",
    "Example 1:\n",
    "\n",
    "Input: 23   \n",
    "\n",
    "Output: true (23 is a happy number)  \n",
    "\n",
    "Explanations: Here are the steps to find out that 23 is a happy number:\n",
    "\n",
    "2^2 + 3 ^22 = 4 + 9 = 13\n",
    "\n",
    "1^2 + 3^21 = 1 + 9 = 10\n",
    "\n",
    "1^2 + 0^21 = 1 + 0 = 1\n"
   ]
  },
  {
   "cell_type": "code",
   "execution_count": 76,
   "metadata": {},
   "outputs": [],
   "source": [
    "def find_square_sum(num):\n",
    "    _sum = 0\n",
    "    while num:\n",
    "        digit = num % 10\n",
    "        _sum += digit**2\n",
    "        num = num // 10\n",
    "    return _sum\n",
    "   \n",
    "    \n",
    "def find_happy_number(num):\n",
    "    slow, fast = num, num\n",
    "    while True:\n",
    "        slow = find_square_sum(slow)\n",
    "        fast = find_square_sum(find_square_sum(fast))\n",
    "        if slow == fast:\n",
    "            break\n",
    "    print(slow)\n",
    "    return slow == 1\n",
    "\n"
   ]
  },
  {
   "cell_type": "code",
   "execution_count": 77,
   "metadata": {},
   "outputs": [
    {
     "name": "stdout",
     "output_type": "stream",
     "text": [
      "1\n",
      "True\n",
      "20\n",
      "False\n"
     ]
    }
   ],
   "source": [
    "print(find_happy_number(23))\n",
    "print(find_happy_number(12))\n",
    "\n"
   ]
  },
  {
   "cell_type": "markdown",
   "metadata": {},
   "source": [
    "Time Complexity #\n",
    "\n",
    "O(logN).\n",
    "\n",
    "Space Complexity #\n",
    "\n",
    "The algorithm runs in constant space O(1).\n"
   ]
  },
  {
   "cell_type": "code",
   "execution_count": null,
   "metadata": {},
   "outputs": [],
   "source": []
  },
  {
   "cell_type": "markdown",
   "metadata": {},
   "source": [
    "## Reverse every K-element Sub-list (medium)\n",
    "\n",
    "Problem Statement #\n",
    "\n",
    "Given the head of a LinkedList and a number ‘k’, reverse every ‘k’ sized sub-list starting from the head.\n",
    "\n",
    "If, in the end, you are left with a sub-list with less than ‘k’ elements, reverse it too.\n",
    "\n",
    "\n",
    "Solution #\n",
    "\n",
    "The problem follows the In-place Reversal of a LinkedList pattern and is quite similar to Reverse a Sub-list. \n",
    "The only difference is that we have to reverse all the sub-lists. \n",
    "We can use the same approach, starting with the first sub-list (i.e. p=1, q=k) and keep reversing all the sublists of size ‘k’.\n",
    "\n",
    "\n"
   ]
  },
  {
   "cell_type": "code",
   "execution_count": 78,
   "metadata": {},
   "outputs": [
    {
     "name": "stdout",
     "output_type": "stream",
     "text": [
      "Nodes of original LinkedList are: 1 2 3 4 5 6 7 8 \n",
      "Nodes of reversed LinkedList are: 3 2 1 6 5 4 8 7 \n"
     ]
    }
   ],
   "source": [
    "from __future__ import print_function\n",
    "\n",
    "\n",
    "class Node:\n",
    "    def __init__(self, value, next=None):\n",
    "        self.value = value\n",
    "        self.next = next\n",
    "\n",
    "    def print_list(self):\n",
    "        temp = self\n",
    "        while temp is not None:\n",
    "            print(temp.value, end=\" \")\n",
    "            temp = temp.next\n",
    "        print()\n",
    "\n",
    "\n",
    "def reverse_every_k_elements(head, k):\n",
    "    if k <= 1 or head is None:\n",
    "        return head\n",
    "\n",
    "    current, previous = head, None\n",
    "    while True:\n",
    "        last_node_of_previous_part = previous\n",
    "        # after reversing the LinkedList 'current' will become the last node of the sub-list\n",
    "        last_node_of_sub_list = current\n",
    "        next = None  # will be used to temporarily store the next node\n",
    "        i = 0\n",
    "        while current is not None and i < k:  # reverse 'k' nodes\n",
    "            next = current.next\n",
    "            current.next = previous\n",
    "            previous = current\n",
    "            current = next\n",
    "            i += 1\n",
    "\n",
    "        # connect with the previous part\n",
    "        if last_node_of_previous_part is not None:\n",
    "            last_node_of_previous_part.next = previous\n",
    "        else:\n",
    "            head = previous\n",
    "\n",
    "        # connect with the next part\n",
    "        last_node_of_sub_list.next = current\n",
    "\n",
    "        if current is None:\n",
    "            break\n",
    "        previous = last_node_of_sub_list\n",
    "    return head\n",
    "\n",
    "\n",
    "def main():\n",
    "    head = Node(1)\n",
    "    head.next = Node(2)\n",
    "    head.next.next = Node(3)\n",
    "    head.next.next.next = Node(4)\n",
    "    head.next.next.next.next = Node(5)\n",
    "    head.next.next.next.next.next = Node(6)\n",
    "    head.next.next.next.next.next.next = Node(7)\n",
    "    head.next.next.next.next.next.next.next = Node(8)\n",
    "\n",
    "    print(\"Nodes of original LinkedList are: \", end='')\n",
    "    head.print_list()\n",
    "    result = reverse_every_k_elements(head, 3)\n",
    "    print(\"Nodes of reversed LinkedList are: \", end='')\n",
    "    result.print_list()\n",
    "\n",
    "\n",
    "main()\n",
    "\n"
   ]
  },
  {
   "cell_type": "markdown",
   "metadata": {},
   "source": [
    "Time complexity #\n",
    "\n",
    "The time complexity of our algorithm will be O(N) where ‘N’ is the total number of nodes in the LinkedList.\n",
    "\n",
    "Space complexity #\n",
    "\n",
    "We only used constant space, therefore, the space complexity of our algorithm is O(1).\n"
   ]
  },
  {
   "cell_type": "code",
   "execution_count": null,
   "metadata": {},
   "outputs": [],
   "source": []
  },
  {
   "cell_type": "markdown",
   "metadata": {},
   "source": [
    "## Rotate a Linked List\n",
    "\n",
    "Description #\n",
    "\n",
    "Given the head node of a singly linked list and an integer n, rotate the linked list by n.\n",
    "\n"
   ]
  },
  {
   "cell_type": "code",
   "execution_count": 80,
   "metadata": {},
   "outputs": [
    {
     "name": "stderr",
     "output_type": "stream",
     "text": [
      "<>:25: SyntaxWarning: \"is\" with a literal. Did you mean \"==\"?\n",
      "<>:25: SyntaxWarning: \"is\" with a literal. Did you mean \"==\"?\n",
      "<ipython-input-80-d0ac855193cc>:25: SyntaxWarning: \"is\" with a literal. Did you mean \"==\"?\n",
      "  if head is None or n is 0:\n"
     ]
    }
   ],
   "source": [
    "def find_length(head):\n",
    "    length = 0\n",
    "    \n",
    "    while head:\n",
    "        length += 1\n",
    "        head = head.next\n",
    "    \n",
    "    return length\n",
    "\n",
    "\n",
    "def adjust_rotations_needed(n, length):\n",
    "  # If n is positive then number of rotations performed is from right side\n",
    "  # and if n is negative then number of rotations performed from left side\n",
    "  # Let's optimize the number of rotations.\n",
    "  # Handle case if 'n' is a negative number.\n",
    "    n = n % length\n",
    "\n",
    "    if n < 0:\n",
    "        n = n + length\n",
    "\n",
    "    return n\n",
    "\n",
    "\n",
    "def rotate_list(head, n):\n",
    "    if head is None or n is 0:\n",
    "        return\n",
    "\n",
    "    # find length of the linked list\n",
    "    length = find_length(head)\n",
    "\n",
    "    # Let's optimize the number of rotations.\n",
    "    # Handle case if 'n' is a negative number.\n",
    "\n",
    "    # If n (number of rotations required) is bigger than\n",
    "    # length of linked list or if n is negative then\n",
    "    # we need to adjust total number of rotations needed\n",
    "    n = adjust_rotations_needed(n, length)\n",
    "\n",
    "    if n == 0:\n",
    "        return head\n",
    "\n",
    "    # Find the start of rotated list.\n",
    "    # If we have 1, 2, 3, 4, 5 where n = 2,\n",
    "    # 4 is the start of rotated list.\n",
    "    rotations_count = length - n - 1\n",
    "    temp = head\n",
    "  \n",
    "    while rotations_count > 0:\n",
    "        rotations_count -= 1\n",
    "        temp = temp.next\n",
    "\n",
    "    # After the above loop temp will be pointing\n",
    "    # to one node prior to rotation point\n",
    "    new_head = temp.next\n",
    "\n",
    "    # Set new end of list.\n",
    "    temp.next = None\n",
    "\n",
    "    # Iterate to the end of list and \n",
    "    # link that to original head.\n",
    "    temp = new_head\n",
    "    while temp.next:\n",
    "        temp = temp.next\n",
    "  \n",
    "    temp.next = head\n",
    "\n",
    "    return new_head\n",
    "\n",
    "\n",
    "# array1 = [1, 2, 3, 4, 5]\n",
    "# list_head = create_linked_list(array1)\n",
    "# print(\"Original list: \", end=\"\")\n",
    "# display(list_head)\n",
    "\n",
    "# list_head = rotate_list(list_head, 2)\n",
    "# print(\"List rotated by 2: \", end=\"\")\n",
    "# display(list_head)\n"
   ]
  },
  {
   "cell_type": "markdown",
   "metadata": {},
   "source": [
    "Runtime complexity #\n",
    "\n",
    "The runtime complexity of this solution is linear, O(m) where m is the length of the linked list.\n",
    "\n",
    "Memory complexity #\n",
    "\n",
    "The memory complexity of this solution is constant, O(1).\n"
   ]
  },
  {
   "cell_type": "code",
   "execution_count": null,
   "metadata": {},
   "outputs": [],
   "source": []
  },
  {
   "cell_type": "markdown",
   "metadata": {},
   "source": [
    "## Reverse Alternate K Nodes in a Singly Linked List\n",
    "\n",
    "Given a singly linked list and an integer 'k', reverse every 'k' element. If k <= 1, then the input list is unchanged. If k >= n (n is the length of linked list), then reverse the whole linked list.\n",
    "\n",
    "\n",
    "Description #\n",
    "\n",
    "Given a singly linked list and an integer ‘k’, reverse every ‘k’ element. If k <= 1, then the input list is unchanged. If k >= n (n is the length of the linked list), then reverse the whole linked list.\n",
    "\n"
   ]
  },
  {
   "cell_type": "code",
   "execution_count": 83,
   "metadata": {},
   "outputs": [],
   "source": [
    "def reverse_k_nodes(head, k):\n",
    "    # if k is 0 or 1, then list is not changed\n",
    "    if k <= 1 or head is None:\n",
    "        return head\n",
    "\n",
    "    reverse = None\n",
    "    prev_tail = None\n",
    "\n",
    "    while head and k > 0:\n",
    "        current_head = None\n",
    "        current_tail = head\n",
    "\n",
    "        n = k\n",
    "        while head and n > 0:\n",
    "            temp = head.next\n",
    "            head.next = current_head\n",
    "            current_head = head\n",
    "\n",
    "            head = temp\n",
    "            n -= 1\n",
    "\n",
    "        if reverse is None:\n",
    "            reverse = current_head\n",
    "\n",
    "        if prev_tail:\n",
    "            prev_tail.next = current_head\n",
    "\n",
    "        prev_tail = current_tail\n",
    "\n",
    "    return reverse\n",
    "\n",
    "\n",
    "# array1 = [1, 2, 3, 4, 5, 6, 7]\n",
    "# list_head = create_linked_list(array1)\n",
    "# print(\"Original list: \", end=\"\")\n",
    "# display(list_head)\n",
    "\n",
    "# list_head = reverse_k_nodes(list_head, 4)\n",
    "# print(\"List reversed by 4: \", end=\"\")\n",
    "# display(list_head)\n",
    "\n"
   ]
  },
  {
   "cell_type": "code",
   "execution_count": null,
   "metadata": {},
   "outputs": [],
   "source": []
  },
  {
   "cell_type": "markdown",
   "metadata": {},
   "source": [
    "Runtime complexity #\n",
    "\n",
    "The runtime complexity of this solution is linear, O(n).\n",
    "\n",
    "Memory complexity #\n",
    "\n",
    "The memory complexity of this solution is constant, O(1).\n"
   ]
  },
  {
   "cell_type": "code",
   "execution_count": null,
   "metadata": {},
   "outputs": [],
   "source": []
  },
  {
   "cell_type": "markdown",
   "metadata": {},
   "source": [
    "## Add Two Integers Represented by Linked Lists\n",
    "\n",
    "Given the head pointers of two linked lists where each linked list represents an integer number (each node is a digit), add them and return the resulting linked list.\n",
    "\n",
    "\n",
    "Description #\n",
    "\n",
    "Given the head pointers of two linked lists where each linked list represents an integer number (each node is a digit), add them and return the resulting linked list. Here, the first node in a list represents the least significant digit.\n",
    "\n",
    "\n",
    "Runtime complexity #\n",
    "\n",
    "The runtime complexity of this solution is linear, O(n). Runtime complexity is based on the length of the linked lists.\n",
    "\n",
    "Memory complexity #\n",
    "\n",
    "The memory complexity of this solution is linear, O(n).\n",
    "\n",
    "\n",
    "Additional Thoughts\n",
    "\n",
    "In some cases, the interviewer might ask that digits in the linked list are stored from left to right, i.e., the most significant digit comes first. We have two options in this case:\n",
    "\n",
    "- Reverse the input linked lists and apply the above algorithm.\n",
    "- If we have circular doubly linked lists, we can simply run the above algorithm from tail to head and keep adding the resulting digit at the head of the result linked list.\n",
    "The interviewer might say that large integers are stored in arrays instead of linked lists. We can use the same algorithm.\n",
    "\n",
    "Follow-up questions\n",
    "\n",
    "- How would we multiply two large numbers?\n",
    "- How would we divide two large integers?\n",
    "- What if the numbers are not in base 10, for instance, base 2, 5, or 8?\n",
    "\n"
   ]
  },
  {
   "cell_type": "code",
   "execution_count": 84,
   "metadata": {},
   "outputs": [],
   "source": [
    "def add_integers(integer1, integer2):\n",
    "    result = None\n",
    "    last = None\n",
    "    carry = 0\n",
    "    while (integer1 or integer2 or carry > 0): \n",
    "        first = (0 if integer1 is None else integer1.data)\n",
    "        second = (0 if integer2 is None else integer2.data)\n",
    "        sum = first + second + carry\n",
    "        p_new = LinkedListNode(sum % 10)\n",
    "        carry = sum // 10\n",
    "        if result is None:\n",
    "            result = p_new\n",
    "        else:\n",
    "            last.next = p_new\n",
    "\n",
    "        last = p_new\n",
    "        if integer1:\n",
    "            integer1 = integer1.next\n",
    "\n",
    "        if integer2:\n",
    "            integer2 = integer2.next\n",
    "\n",
    "    \n",
    "    \n",
    "    return result;\n",
    "\n",
    "\n",
    "\n",
    "# first = create_linked_list([9, 9, 0, 1]) #1099\n",
    "# second = create_linked_list([2,3,7]) #732\n",
    "\n",
    "# print(\"First integer: \", end=\"\")\n",
    "# display(first)\n",
    "# print(\"Second integer: \", end=\"\")\n",
    "# display(second)\n",
    "\n",
    "# result = add_integers(first, second)\n",
    "# print(\"Result: \", end=\"\")\n",
    "# display(result)\n"
   ]
  },
  {
   "cell_type": "code",
   "execution_count": null,
   "metadata": {},
   "outputs": [],
   "source": []
  },
  {
   "cell_type": "markdown",
   "metadata": {},
   "source": [
    "## Copy Linked List with Arbitrary Pointer\n",
    "\n",
    "Make a deep copy of the given linked list where each node has two pointers: 'next' and 'arbitrary_pointer'.\n",
    "\n",
    "Description #\n",
    "\n",
    "We are given a linked list where the node has two pointers. The first is the regular next pointer. The second pointer is called arbitrary_pointer and it can point to any node in the linked list. Your job is to write code to make a deep copy of the given linked list. Here, deep copy means that any operations on the original list (inserting, modifying and removing) should not affect the copied list.\n",
    "\n",
    "\n",
    "Solution 1 #\n",
    "\n",
    "Runtime complexity #\n",
    "\n",
    "The runtime complexity of this solution is linear, O(n).\n",
    "\n",
    "Memory complexity #\n",
    "\n",
    "The memory complexity of this solution is linear, O(n).\n",
    "\n",
    "This approach uses a map to track arbitrary nodes pointed by the original list. We will create a deep copy of the original linked list in two passes.\n",
    "\n",
    "In the first pass, create a copy of the original linked list. While creating this copy, use the same values for data and arbitrary_pointer in the new list. Also, keep updating the map with entries where the key is the address to the old node and the value is the address of the new node.\n",
    "\n",
    "Once the copy has been created, do another pass on the copied linked list and update arbitrary pointers to the new address using the map created in the first pass.\n",
    "\n",
    "\n",
    "\n"
   ]
  },
  {
   "cell_type": "code",
   "execution_count": 85,
   "metadata": {},
   "outputs": [],
   "source": [
    "def deep_copy_arbitrary_pointer(head):\n",
    "    if head is None:\n",
    "        return None\n",
    "\n",
    "    current = head;\n",
    "    new_head = None\n",
    "    new_prev = None\n",
    "    ht = dict()\n",
    "\n",
    "    # create copy of the linked list, recording the corresponding\n",
    "    # nodes in hashmap without updating arbitrary pointer\n",
    "    while current:\n",
    "        new_node = LinkedListNode(current.data)\n",
    "        # copy the old arbitrary pointer in the new node\n",
    "        new_node.arbitrary = current.arbitrary;\n",
    "\n",
    "        if new_prev:\n",
    "            new_prev.next = new_node\n",
    "        else:\n",
    "            new_head = new_node\n",
    "\n",
    "        ht[current] = new_node\n",
    "\n",
    "        new_prev = new_node\n",
    "        current = current.next\n",
    "        \n",
    "        new_current = new_head\n",
    "\n",
    "    # updating arbitrary pointer\n",
    "    while new_current:\n",
    "        if new_current.arbitrary:\n",
    "            node = ht[new_current.arbitrary]\n",
    "\n",
    "        new_current.arbitrary = node\n",
    "        new_current = new_current.next\n",
    "\n",
    "    return new_head\n",
    "\n",
    "\n",
    "\n",
    "\n"
   ]
  },
  {
   "cell_type": "code",
   "execution_count": null,
   "metadata": {},
   "outputs": [],
   "source": []
  },
  {
   "cell_type": "markdown",
   "metadata": {},
   "source": [
    "## Merge K Sorted Lists (medium)\n",
    "\n",
    "Problem Statement #\n",
    "\n",
    "Given an array of ‘K’ sorted LinkedLists, merge them into one sorted list.\n",
    "\n",
    "\n",
    "Example 1:\n",
    "\n",
    "Input: L1=[2, 6, 8], L2=[3, 6, 7], L3=[1, 3, 4]\n",
    "\n",
    "Output: [1, 2, 3, 3, 4, 6, 6, 7, 8]\n",
    "\n",
    "\n",
    "Example 2:\n",
    "\n",
    "Input: L1=[5, 8, 9], L2=[1, 7]\n",
    "\n",
    "Output: [1, 5, 7, 8, 9]\n",
    "\n",
    "\n",
    "Solution #\n",
    "\n",
    "A brute force solution could be to add all elements of the given ‘K’ lists to one list and sort it. \n",
    "\n",
    "If there are a total of ‘N’ elements in all the input lists, then the brute force solution will have a time complexity of O(N*logN)O(N∗logN) as we will need to sort the merged list. Can we do better than this? How can we utilize the fact that the input lists are individually sorted?\n",
    "\n",
    "If we have to find the smallest element of all the input lists, we have to compare only the smallest (i.e. the first) element of all the lists. Once we have the smallest element, we can put it in the merged list. Following a similar pattern, we can then find the next smallest element of all the lists to add it to the merged list.\n",
    "\n",
    "The best data structure that comes to mind to find the smallest number among a set of ‘K’ numbers is a Heap. Let’s see how can we use a heap to find a better algorithm.\n",
    "\n",
    "We can insert the first element of each array in a Min Heap.\n",
    "After this, we can take out the smallest (top) element from the heap and add it to the merged list.\n",
    "After removing the smallest element from the heap, we can insert the next element of the same list into the heap.\n",
    "We can repeat steps 2 and 3 to populate the merged list in sorted order.\n",
    "\n"
   ]
  },
  {
   "cell_type": "code",
   "execution_count": null,
   "metadata": {},
   "outputs": [],
   "source": []
  },
  {
   "cell_type": "code",
   "execution_count": null,
   "metadata": {},
   "outputs": [],
   "source": []
  },
  {
   "cell_type": "code",
   "execution_count": null,
   "metadata": {},
   "outputs": [],
   "source": []
  },
  {
   "cell_type": "code",
   "execution_count": null,
   "metadata": {},
   "outputs": [],
   "source": []
  },
  {
   "cell_type": "code",
   "execution_count": null,
   "metadata": {},
   "outputs": [],
   "source": []
  },
  {
   "cell_type": "code",
   "execution_count": null,
   "metadata": {},
   "outputs": [],
   "source": []
  },
  {
   "cell_type": "code",
   "execution_count": null,
   "metadata": {},
   "outputs": [],
   "source": []
  },
  {
   "cell_type": "code",
   "execution_count": null,
   "metadata": {},
   "outputs": [],
   "source": []
  },
  {
   "cell_type": "code",
   "execution_count": null,
   "metadata": {},
   "outputs": [],
   "source": []
  },
  {
   "cell_type": "code",
   "execution_count": null,
   "metadata": {},
   "outputs": [],
   "source": []
  },
  {
   "cell_type": "code",
   "execution_count": null,
   "metadata": {},
   "outputs": [],
   "source": []
  },
  {
   "cell_type": "code",
   "execution_count": null,
   "metadata": {},
   "outputs": [],
   "source": []
  },
  {
   "cell_type": "code",
   "execution_count": null,
   "metadata": {},
   "outputs": [],
   "source": []
  },
  {
   "cell_type": "code",
   "execution_count": null,
   "metadata": {},
   "outputs": [],
   "source": []
  },
  {
   "cell_type": "code",
   "execution_count": null,
   "metadata": {},
   "outputs": [],
   "source": []
  },
  {
   "cell_type": "code",
   "execution_count": null,
   "metadata": {},
   "outputs": [],
   "source": []
  },
  {
   "cell_type": "code",
   "execution_count": null,
   "metadata": {},
   "outputs": [],
   "source": []
  },
  {
   "cell_type": "code",
   "execution_count": null,
   "metadata": {},
   "outputs": [],
   "source": []
  },
  {
   "cell_type": "code",
   "execution_count": null,
   "metadata": {},
   "outputs": [],
   "source": []
  },
  {
   "cell_type": "code",
   "execution_count": null,
   "metadata": {},
   "outputs": [],
   "source": []
  },
  {
   "cell_type": "code",
   "execution_count": null,
   "metadata": {},
   "outputs": [],
   "source": []
  },
  {
   "cell_type": "code",
   "execution_count": null,
   "metadata": {},
   "outputs": [],
   "source": []
  },
  {
   "cell_type": "code",
   "execution_count": null,
   "metadata": {},
   "outputs": [],
   "source": []
  },
  {
   "cell_type": "code",
   "execution_count": null,
   "metadata": {},
   "outputs": [],
   "source": []
  },
  {
   "cell_type": "code",
   "execution_count": null,
   "metadata": {},
   "outputs": [],
   "source": []
  },
  {
   "cell_type": "code",
   "execution_count": null,
   "metadata": {},
   "outputs": [],
   "source": []
  },
  {
   "cell_type": "code",
   "execution_count": null,
   "metadata": {},
   "outputs": [],
   "source": []
  },
  {
   "cell_type": "code",
   "execution_count": null,
   "metadata": {},
   "outputs": [],
   "source": []
  },
  {
   "cell_type": "code",
   "execution_count": null,
   "metadata": {},
   "outputs": [],
   "source": []
  },
  {
   "cell_type": "code",
   "execution_count": null,
   "metadata": {},
   "outputs": [],
   "source": []
  },
  {
   "cell_type": "code",
   "execution_count": null,
   "metadata": {},
   "outputs": [],
   "source": []
  },
  {
   "cell_type": "code",
   "execution_count": null,
   "metadata": {},
   "outputs": [],
   "source": []
  },
  {
   "cell_type": "code",
   "execution_count": null,
   "metadata": {},
   "outputs": [],
   "source": []
  },
  {
   "cell_type": "code",
   "execution_count": null,
   "metadata": {},
   "outputs": [],
   "source": []
  }
 ],
 "metadata": {
  "kernelspec": {
   "display_name": "Python 3",
   "language": "python",
   "name": "python3"
  },
  "language_info": {
   "codemirror_mode": {
    "name": "ipython",
    "version": 3
   },
   "file_extension": ".py",
   "mimetype": "text/x-python",
   "name": "python",
   "nbconvert_exporter": "python",
   "pygments_lexer": "ipython3",
   "version": "3.8.5"
  },
  "toc": {
   "base_numbering": 1,
   "nav_menu": {},
   "number_sections": true,
   "sideBar": true,
   "skip_h1_title": false,
   "title_cell": "Table of Contents",
   "title_sidebar": "Contents",
   "toc_cell": true,
   "toc_position": {},
   "toc_section_display": true,
   "toc_window_display": true
  }
 },
 "nbformat": 4,
 "nbformat_minor": 4
}
