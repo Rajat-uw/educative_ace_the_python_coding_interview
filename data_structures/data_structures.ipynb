{
 "cells": [
  {
   "cell_type": "markdown",
   "metadata": {
    "toc": true
   },
   "source": [
    "<h1>Table of Contents<span class=\"tocSkip\"></span></h1>\n",
    "<div class=\"toc\"><ul class=\"toc-item\"><li><span><a href=\"#Lists\" data-toc-modified-id=\"Lists-1\"><span class=\"toc-item-num\">1&nbsp;&nbsp;</span>Lists</a></span><ul class=\"toc-item\"><li><span><a href=\"#Challenge-1:-Remove-Even-Integers-from-List\" data-toc-modified-id=\"Challenge-1:-Remove-Even-Integers-from-List-1.1\"><span class=\"toc-item-num\">1.1&nbsp;&nbsp;</span>Challenge 1: Remove Even Integers from List</a></span></li><li><span><a href=\"#Challenge-2:-Merge-Two-Sorted-Lists\" data-toc-modified-id=\"Challenge-2:-Merge-Two-Sorted-Lists-1.2\"><span class=\"toc-item-num\">1.2&nbsp;&nbsp;</span>Challenge 2: Merge Two Sorted Lists</a></span></li></ul></li></ul></div>"
   ]
  },
  {
   "cell_type": "code",
   "execution_count": null,
   "metadata": {},
   "outputs": [],
   "source": []
  },
  {
   "cell_type": "markdown",
   "metadata": {},
   "source": [
    "https://www.educative.io/module/lesson/data-structures-in-python/393G9ZlnOEQ\n"
   ]
  },
  {
   "cell_type": "markdown",
   "metadata": {},
   "source": [
    "# Lists"
   ]
  },
  {
   "cell_type": "markdown",
   "metadata": {},
   "source": [
    "## Challenge 1: Remove Even Integers from List\n",
    "\n",
    "Given a list of size n, remove all even integers from it. Implement this solution in Python and see if it runs without an error.\n",
    "\n",
    "Introduction #\n",
    "\n",
    "Here is a short guide to these challenge lessons.\n",
    "\n",
    "- The function definition is always given in the problem statement with the expected arguments and function name to be used as is in the solution. If you change it, your code will not compile\n",
    "\n",
    "- The skeleton code given has a function definition which only has the pass keyword in the body. It does exactly what it sounds like it does: nothing. It’s just there as a placeholder. Delete it and add your code in.\n",
    "\n",
    "- When you do get compile-time errors, they will sometimes refer to line numbers and code which you did not write. That is fine; that is just our evaluation code. When in doubt, refer to the solution given and paste that in.\n",
    "\n",
    "- Sometimes you will have to return from functions in a form that aligns with the test cases. Your solution may not be incorrect, but the return value might not be what the evaluation code expects. For example, you might return two numbers in a list, but our test cases might expect a tuple. Watch out for that. Good luck! 🍀\n",
    "\n",
    "Problem Statement #\n",
    "\n",
    "Implement a function that removes all the even elements from a given list. Name it remove_even(lst).\n",
    "\n",
    "Input #\n",
    "\n",
    "A list with random integers.\n",
    "\n",
    "Output #\n",
    "\n",
    "A list with only odd integers\n",
    "\n",
    "Sample Input #\n",
    "\n",
    "my_list = [1,2,4,5,10,6,3]\n",
    "\n",
    "Sample Output #\n",
    "\n",
    "my_list = [1,5,3]\n",
    "\n",
    "\n",
    "**Time Complexity** #\n",
    "\n",
    "The time complexity of this solution is also O(n), since only the syntax has changed while the algorithm still iterates over all elements of the list.\n"
   ]
  },
  {
   "cell_type": "code",
   "execution_count": 2,
   "metadata": {},
   "outputs": [],
   "source": [
    "def remove_even(lst):\n",
    "    return [item for item in lst if item % 2 != 0]\n"
   ]
  },
  {
   "cell_type": "code",
   "execution_count": 3,
   "metadata": {},
   "outputs": [
    {
     "data": {
      "text/plain": [
       "[1, 5, 3]"
      ]
     },
     "execution_count": 3,
     "metadata": {},
     "output_type": "execute_result"
    }
   ],
   "source": [
    "remove_even([1, 2, 4, 5, 10, 6, 3])\n"
   ]
  },
  {
   "cell_type": "code",
   "execution_count": null,
   "metadata": {},
   "outputs": [],
   "source": []
  },
  {
   "cell_type": "markdown",
   "metadata": {},
   "source": [
    "## Challenge 2: Merge Two Sorted Lists\n",
    "\n",
    "Given two sorted lists, merge them into one list which should also be sorted. \n",
    "\n",
    "Problem Statement #\n",
    "\n",
    "Implement a function that merges two sorted lists of m and n elements respectively, into another sorted list. Name it merge_lists(lst1, lst2).\n",
    "\n",
    "Input #\n",
    "\n",
    "Two sorted lists.\n",
    "\n",
    "Output #\n",
    "\n",
    "A merged and sorted list consisting of all elements of both input lists.\n",
    "\n",
    "Sample Input #\n",
    "\n",
    "list1 = [1,3,4,5]  \n",
    "\n",
    "list2 = [2,6,7,8]\n",
    "\n",
    "Sample Output #\n",
    "\n",
    "arr = [1,2,3,4,5,6,7,8]\n"
   ]
  },
  {
   "cell_type": "code",
   "execution_count": 6,
   "metadata": {},
   "outputs": [],
   "source": [
    "# Solution #1: Creating a New List #\n",
    "# Traverse Both lists and insert smaller value from arr1 or arr2\n",
    "# into result list and then increment that lists index.\n",
    "# If a list is completely traversed, while other one is left then just\n",
    "# copy all the remaining elements into result list\n",
    "\n",
    "def merge_lists(lst1, lst2):\n",
    "    index_lst1, index_lst2, index_res = 0, 0, 0\n",
    "    res = [0] * (len(lst1) + len(lst2))\n",
    "    while index_lst1 < len(lst1) and index_lst2 < len(lst2):\n",
    "        if lst1[index_lst1] < lst2[index_lst2]:\n",
    "            res[index_res] = lst1[index_lst1]\n",
    "            index_lst1 += 1\n",
    "        else:\n",
    "            res[index_res] = lst2[index_lst2]\n",
    "            index_lst2 += 1\n",
    "        index_res += 1\n",
    "    while index_lst1 < len(lst1):\n",
    "        res[index_res] = lst1[index_lst1]\n",
    "        index_lst1 += 1\n",
    "        index_res += 1\n",
    "    while index_lst2 < len(lst2):\n",
    "        res[index_res] = lst2[index_lst2]\n",
    "        index_lst2 += 1\n",
    "        index_res += 1\n",
    "    return res\n",
    "    \n"
   ]
  },
  {
   "cell_type": "code",
   "execution_count": 7,
   "metadata": {},
   "outputs": [
    {
     "name": "stdout",
     "output_type": "stream",
     "text": [
      "[-2, -1, 0, 4, 5, 6, 7]\n"
     ]
    }
   ],
   "source": [
    "print(merge_lists([4, 5, 6], [-2, -1, 0, 7]))\n"
   ]
  },
  {
   "cell_type": "code",
   "execution_count": null,
   "metadata": {},
   "outputs": [],
   "source": []
  },
  {
   "cell_type": "code",
   "execution_count": null,
   "metadata": {},
   "outputs": [],
   "source": []
  },
  {
   "cell_type": "code",
   "execution_count": null,
   "metadata": {},
   "outputs": [],
   "source": []
  },
  {
   "cell_type": "code",
   "execution_count": null,
   "metadata": {},
   "outputs": [],
   "source": []
  },
  {
   "cell_type": "code",
   "execution_count": null,
   "metadata": {},
   "outputs": [],
   "source": []
  },
  {
   "cell_type": "code",
   "execution_count": null,
   "metadata": {},
   "outputs": [],
   "source": []
  },
  {
   "cell_type": "code",
   "execution_count": null,
   "metadata": {},
   "outputs": [],
   "source": []
  },
  {
   "cell_type": "code",
   "execution_count": null,
   "metadata": {},
   "outputs": [],
   "source": []
  },
  {
   "cell_type": "code",
   "execution_count": null,
   "metadata": {},
   "outputs": [],
   "source": []
  },
  {
   "cell_type": "code",
   "execution_count": null,
   "metadata": {},
   "outputs": [],
   "source": []
  }
 ],
 "metadata": {
  "kernelspec": {
   "display_name": "Python 3",
   "language": "python",
   "name": "python3"
  },
  "language_info": {
   "codemirror_mode": {
    "name": "ipython",
    "version": 3
   },
   "file_extension": ".py",
   "mimetype": "text/x-python",
   "name": "python",
   "nbconvert_exporter": "python",
   "pygments_lexer": "ipython3",
   "version": "3.8.5"
  },
  "toc": {
   "base_numbering": 1,
   "nav_menu": {},
   "number_sections": true,
   "sideBar": true,
   "skip_h1_title": false,
   "title_cell": "Table of Contents",
   "title_sidebar": "Contents",
   "toc_cell": true,
   "toc_position": {},
   "toc_section_display": true,
   "toc_window_display": true
  }
 },
 "nbformat": 4,
 "nbformat_minor": 4
}
