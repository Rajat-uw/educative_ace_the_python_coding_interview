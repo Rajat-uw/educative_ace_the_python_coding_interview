{
 "cells": [
  {
   "cell_type": "markdown",
   "metadata": {
    "toc": true
   },
   "source": [
    "<h1>Table of Contents<span class=\"tocSkip\"></span></h1>\n",
    "<div class=\"toc\"><ul class=\"toc-item\"><li><span><a href=\"#Lists\" data-toc-modified-id=\"Lists-1\"><span class=\"toc-item-num\">1&nbsp;&nbsp;</span>Lists</a></span><ul class=\"toc-item\"><li><span><a href=\"#Challenge-1:-Remove-Even-Integers-from-List\" data-toc-modified-id=\"Challenge-1:-Remove-Even-Integers-from-List-1.1\"><span class=\"toc-item-num\">1.1&nbsp;&nbsp;</span>Challenge 1: Remove Even Integers from List</a></span></li><li><span><a href=\"#Challenge-2:-Merge-Two-Sorted-Lists\" data-toc-modified-id=\"Challenge-2:-Merge-Two-Sorted-Lists-1.2\"><span class=\"toc-item-num\">1.2&nbsp;&nbsp;</span>Challenge 2: Merge Two Sorted Lists</a></span></li><li><span><a href=\"#Challenge-4:-List-of-Products-of-all-Elements\" data-toc-modified-id=\"Challenge-4:-List-of-Products-of-all-Elements-1.3\"><span class=\"toc-item-num\">1.3&nbsp;&nbsp;</span>Challenge 4: List of Products of all Elements</a></span></li><li><span><a href=\"#Challenge-7:-Find-Second-Maximum-Value-in-a-List\" data-toc-modified-id=\"Challenge-7:-Find-Second-Maximum-Value-in-a-List-1.4\"><span class=\"toc-item-num\">1.4&nbsp;&nbsp;</span>Challenge 7: Find Second Maximum Value in a List</a></span></li><li><span><a href=\"#Challenge-8:-Right-Rotate-List\" data-toc-modified-id=\"Challenge-8:-Right-Rotate-List-1.5\"><span class=\"toc-item-num\">1.5&nbsp;&nbsp;</span>Challenge 8: Right Rotate List</a></span></li><li><span><a href=\"#Challenge-9:-Rearrange-Positive-&amp;-Negative-Values\" data-toc-modified-id=\"Challenge-9:-Rearrange-Positive-&amp;-Negative-Values-1.6\"><span class=\"toc-item-num\">1.6&nbsp;&nbsp;</span>Challenge 9: Rearrange Positive &amp; Negative Values</a></span></li><li><span><a href=\"#Challenge-10:-Rearrange-Sorted-List-in-Max/Min-Form\" data-toc-modified-id=\"Challenge-10:-Rearrange-Sorted-List-in-Max/Min-Form-1.7\"><span class=\"toc-item-num\">1.7&nbsp;&nbsp;</span>Challenge 10: Rearrange Sorted List in Max/Min Form</a></span></li><li><span><a href=\"#Challenge-11:-Maximum-Sum-Sublist\" data-toc-modified-id=\"Challenge-11:-Maximum-Sum-Sublist-1.8\"><span class=\"toc-item-num\">1.8&nbsp;&nbsp;</span>Challenge 11: Maximum Sum Sublist</a></span></li></ul></li></ul></div>"
   ]
  },
  {
   "cell_type": "code",
   "execution_count": null,
   "metadata": {},
   "outputs": [],
   "source": []
  },
  {
   "cell_type": "markdown",
   "metadata": {},
   "source": [
    "https://www.educative.io/module/lesson/data-structures-in-python/393G9ZlnOEQ\n"
   ]
  },
  {
   "cell_type": "markdown",
   "metadata": {},
   "source": [
    "# Lists\n",
    "\n",
    "The objects of lists themselves are stored in random memory locations whereas the pointers that make up the list are stored in sequential locations\n"
   ]
  },
  {
   "cell_type": "markdown",
   "metadata": {},
   "source": [
    "## Challenge 1: Remove Even Integers from List\n",
    "\n",
    "Given a list of size n, remove all even integers from it. Implement this solution in Python and see if it runs without an error.\n",
    "\n",
    "Introduction #\n",
    "\n",
    "Here is a short guide to these challenge lessons.\n",
    "\n",
    "- The function definition is always given in the problem statement with the expected arguments and function name to be used as is in the solution. If you change it, your code will not compile\n",
    "\n",
    "- The skeleton code given has a function definition which only has the pass keyword in the body. It does exactly what it sounds like it does: nothing. It’s just there as a placeholder. Delete it and add your code in.\n",
    "\n",
    "- When you do get compile-time errors, they will sometimes refer to line numbers and code which you did not write. That is fine; that is just our evaluation code. When in doubt, refer to the solution given and paste that in.\n",
    "\n",
    "- Sometimes you will have to return from functions in a form that aligns with the test cases. Your solution may not be incorrect, but the return value might not be what the evaluation code expects. For example, you might return two numbers in a list, but our test cases might expect a tuple. Watch out for that. Good luck! 🍀\n",
    "\n",
    "Problem Statement #\n",
    "\n",
    "Implement a function that removes all the even elements from a given list. Name it remove_even(lst).\n",
    "\n",
    "Input #\n",
    "\n",
    "A list with random integers.\n",
    "\n",
    "Output #\n",
    "\n",
    "A list with only odd integers\n",
    "\n",
    "Sample Input #\n",
    "\n",
    "my_list = [1,2,4,5,10,6,3]\n",
    "\n",
    "Sample Output #\n",
    "\n",
    "my_list = [1,5,3]\n",
    "\n",
    "\n",
    "**Time Complexity** #\n",
    "\n",
    "The time complexity of this solution is also O(n), since only the syntax has changed while the algorithm still iterates over all elements of the list.\n"
   ]
  },
  {
   "cell_type": "code",
   "execution_count": 2,
   "metadata": {},
   "outputs": [],
   "source": [
    "def remove_even(lst):\n",
    "    return [item for item in lst if item % 2 != 0]\n"
   ]
  },
  {
   "cell_type": "code",
   "execution_count": 3,
   "metadata": {},
   "outputs": [
    {
     "data": {
      "text/plain": [
       "[1, 5, 3]"
      ]
     },
     "execution_count": 3,
     "metadata": {},
     "output_type": "execute_result"
    }
   ],
   "source": [
    "remove_even([1, 2, 4, 5, 10, 6, 3])\n"
   ]
  },
  {
   "cell_type": "code",
   "execution_count": null,
   "metadata": {},
   "outputs": [],
   "source": []
  },
  {
   "cell_type": "markdown",
   "metadata": {},
   "source": [
    "## Challenge 2: Merge Two Sorted Lists\n",
    "\n",
    "Given two sorted lists, merge them into one list which should also be sorted. \n",
    "\n",
    "Problem Statement #\n",
    "\n",
    "Implement a function that merges two sorted lists of m and n elements respectively, into another sorted list. Name it merge_lists(lst1, lst2).\n",
    "\n",
    "Input #\n",
    "\n",
    "Two sorted lists.\n",
    "\n",
    "Output #\n",
    "\n",
    "A merged and sorted list consisting of all elements of both input lists.\n",
    "\n",
    "Sample Input #\n",
    "\n",
    "list1 = [1,3,4,5]  \n",
    "\n",
    "list2 = [2,6,7,8]\n",
    "\n",
    "Sample Output #\n",
    "\n",
    "arr = [1,2,3,4,5,6,7,8]\n"
   ]
  },
  {
   "cell_type": "code",
   "execution_count": 6,
   "metadata": {},
   "outputs": [],
   "source": [
    "# Solution #1: Creating a New List #\n",
    "# Traverse Both lists and insert smaller value from arr1 or arr2\n",
    "# into result list and then increment that lists index.\n",
    "# If a list is completely traversed, while other one is left then just\n",
    "# copy all the remaining elements into result list\n",
    "\n",
    "def merge_lists(lst1, lst2):\n",
    "    index_lst1, index_lst2, index_res = 0, 0, 0\n",
    "    res = [0] * (len(lst1) + len(lst2))\n",
    "    while index_lst1 < len(lst1) and index_lst2 < len(lst2):\n",
    "        if lst1[index_lst1] < lst2[index_lst2]:\n",
    "            res[index_res] = lst1[index_lst1]\n",
    "            index_lst1 += 1\n",
    "        else:\n",
    "            res[index_res] = lst2[index_lst2]\n",
    "            index_lst2 += 1\n",
    "        index_res += 1\n",
    "    while index_lst1 < len(lst1):\n",
    "        res[index_res] = lst1[index_lst1]\n",
    "        index_lst1 += 1\n",
    "        index_res += 1\n",
    "    while index_lst2 < len(lst2):\n",
    "        res[index_res] = lst2[index_lst2]\n",
    "        index_lst2 += 1\n",
    "        index_res += 1\n",
    "    return res\n",
    "    \n"
   ]
  },
  {
   "cell_type": "code",
   "execution_count": 7,
   "metadata": {},
   "outputs": [
    {
     "name": "stdout",
     "output_type": "stream",
     "text": [
      "[-2, -1, 0, 4, 5, 6, 7]\n"
     ]
    }
   ],
   "source": [
    "print(merge_lists([4, 5, 6], [-2, -1, 0, 7]))\n"
   ]
  },
  {
   "cell_type": "markdown",
   "metadata": {},
   "source": [
    "Time Complexity #\n",
    "\n",
    "The time complexity for this algorithm is O(n+m) where nn and mm are the lengths of the lists. This is because both lists are iterated over atleast once.\n"
   ]
  },
  {
   "cell_type": "code",
   "execution_count": null,
   "metadata": {},
   "outputs": [],
   "source": []
  },
  {
   "cell_type": "code",
   "execution_count": 8,
   "metadata": {},
   "outputs": [
    {
     "name": "stdout",
     "output_type": "stream",
     "text": [
      "[-2, -1, 0, 4, 5, 6, 7]\n"
     ]
    }
   ],
   "source": [
    "# Solution #2: Merging in Place \n",
    "def merge_arrays(lst1, lst2):\n",
    "    ind1 = 0  # Creating 2 new variable to track the 'current index'\n",
    "    ind2 = 0\n",
    "    # While both indeces are less than the length of their lists\n",
    "    while ind1 < len(lst1) and ind2 < len(lst2):\n",
    "        # If the current element of list1 is greater\n",
    "        # than the current element of list2\n",
    "        if(lst1[ind1] > lst2[ind2]):\n",
    "            # insert list2's current index to list1\n",
    "            lst1.insert(ind1, lst2[ind2])\n",
    "            ind1 += 1  # increment indices\n",
    "            ind2 += 1\n",
    "        else:\n",
    "            ind1 += 1\n",
    "\n",
    "    if ind2 < len(lst2):  # Append whatever is left of list2 to list1\n",
    "        lst1.extend(lst2[ind2:])\n",
    "    return lst1\n",
    "\n",
    "\n",
    "print(merge_arrays([4, 5, 6], [-2, -1, 0, 7]))\n"
   ]
  },
  {
   "cell_type": "markdown",
   "metadata": {},
   "source": [
    "This solution merges the two lists in place, i.e., no new list is created. First, initialize two new variables to track the ‘current index’ of both the lists to zero. Then, compare the current elements of both. If the current element of the first list is greater than the current element of the second list, insert the current element of the second list in place of the current element of the first list and increment both index variables by 1. Note that the insert operation is done using the built-in insert function. However, if the current element of the first list is smaller than the current element of the second list, then only increment the index variable of the first list by 1. Continue this until the end of one of the lists is reached, i.e., until one of the index variables is greater than or equal to the length of its respective list. After that, if the index of the second list is smaller than the length of the list, extend the first list by the second one from that index until the end.\n",
    "\n",
    "Time Complexity #\n",
    "\n",
    "Since both lists are traversed in this solution as well, the time complexity is O(m(n+m)) where n and m are the lengths of the lists. Both lists are not traversed separately so we cannot say that complexity is (m+n). The shorter of the two lengths is traversed in the while loop. Also, the insert function gets called when the if-condition is true. In the worst-case, the second list has all the elements that are smaller than the elements of the first list. In this case, the complexity will be O(mn). Note that if m > n, we have O(mn), otherwise the complexity is O(n^2).\n",
    "\n",
    "However, the extra space used in solution#1 is reduced to O(m) in solution#2. Thus, it makes this a tradeoff between space and time.\n",
    "\n"
   ]
  },
  {
   "cell_type": "code",
   "execution_count": null,
   "metadata": {},
   "outputs": [],
   "source": []
  },
  {
   "cell_type": "markdown",
   "metadata": {},
   "source": [
    "## Challenge 4: List of Products of all Elements\n",
    "\n",
    "Given a list, modify it so that each index stores the product of all elements in the list except the element at the index itself.\n",
    "\n",
    "Problem Statement #\n",
    "\n",
    "Implement a function, find_product(lst), which modifies a list so that each index has a product of all the numbers present in the list except the number stored at that index.\n",
    "\n",
    "Input: #\n",
    "\n",
    "A list of numbers (could be floating points or integers)\n",
    "\n",
    "Output: #\n",
    "\n",
    "A list such that each index has a product of all the numbers in the list except the number stored at that index.\n",
    "\n",
    "Sample Input #\n",
    "\n",
    "arr = [1,2,3,4]\n",
    "\n",
    "Sample Output #\n",
    "\n",
    "arr = [24,12,8,6]\n"
   ]
  },
  {
   "cell_type": "code",
   "execution_count": 11,
   "metadata": {},
   "outputs": [
    {
     "name": "stdout",
     "output_type": "stream",
     "text": [
      "[6, 0, 0, 0]\n"
     ]
    }
   ],
   "source": [
    "def find_product(lst):\n",
    "    product = []\n",
    "    left = 1\n",
    "    for el in lst:\n",
    "        product.append(left)\n",
    "        left *= el\n",
    "    right = 1\n",
    "    for i in range(len(lst)-1, -1, -1):\n",
    "        product[i] = product[i] * right\n",
    "        right *= lst[i]\n",
    "    return product\n",
    "\n",
    "\n",
    "print(find_product([0, 1, 2, 3]))\n"
   ]
  },
  {
   "cell_type": "markdown",
   "metadata": {},
   "source": [
    "Time Complexity #\n",
    "\n",
    "Since this algorithm only traverses over the list twice, it’s in linear time, O(n).\n",
    "\n"
   ]
  },
  {
   "cell_type": "code",
   "execution_count": null,
   "metadata": {},
   "outputs": [],
   "source": []
  },
  {
   "cell_type": "markdown",
   "metadata": {},
   "source": [
    "## Challenge 5: Find Minimum Value in List\n",
    "\n",
    "Given a list of size ‘n,’ can you find the minimum value in the list? \n",
    "\n",
    "Problem Statement #\n",
    "Implement a function findMinimum(lst) which finds the smallest number in the given list.\n",
    "\n",
    "Input: #\n",
    "A list of integers\n",
    "\n",
    "Output: #\n",
    "The smallest number in the list\n",
    "\n",
    "Sample Input #\n",
    "\n",
    "arr = [9,2,3,6]\n",
    "\n",
    "Sample Output #\n",
    "\n",
    "2\n"
   ]
  },
  {
   "cell_type": "code",
   "execution_count": 14,
   "metadata": {},
   "outputs": [
    {
     "name": "stdout",
     "output_type": "stream",
     "text": [
      "2\n"
     ]
    }
   ],
   "source": [
    "def find_minimum(lst):\n",
    "    if not lst:\n",
    "        return None\n",
    "    minimum = lst[0]\n",
    "    for el in lst:\n",
    "        if el < minimum:\n",
    "            minimum = el\n",
    "    return minimum\n",
    "    \n",
    "print(find_minimum([9, 3, 2, 6]))\n"
   ]
  },
  {
   "cell_type": "code",
   "execution_count": null,
   "metadata": {},
   "outputs": [],
   "source": []
  },
  {
   "cell_type": "markdown",
   "metadata": {},
   "source": [
    "## Challenge 7: Find Second Maximum Value in a List\n",
    "\n",
    "Given a list of size n, can you find the second maximum element in the list? \n",
    "\n",
    "Problem Statement #\n",
    "\n",
    "Implement a function find_second_maximum(lst) which returns the second largest element in the list.\n",
    "\n",
    "Input: #\n",
    "\n",
    "A List\n",
    "\n",
    "Output: #\n",
    "\n",
    "Second largest element in the list\n",
    "\n",
    "Sample Input #\n",
    "\n",
    "[9,2,3,6]\n",
    "\n",
    "Sample Output #\n",
    "\n",
    "6\n"
   ]
  },
  {
   "cell_type": "code",
   "execution_count": 15,
   "metadata": {},
   "outputs": [
    {
     "name": "stdout",
     "output_type": "stream",
     "text": [
      "6\n"
     ]
    }
   ],
   "source": [
    "def find_second_maximum(lst):\n",
    "    first_maximum = float('-inf')\n",
    "    second_maximum = float('-inf')\n",
    "    for el in lst:\n",
    "        if el > first_maximum:\n",
    "            first_maximum = el\n",
    "    for el in lst:\n",
    "        if el != first_maximum and el > second_maximum:\n",
    "            second_maximum = el\n",
    "    return second_maximum\n",
    "    \n",
    "    \n",
    "print(find_second_maximum([9, 2, 3, 6]))\n"
   ]
  },
  {
   "cell_type": "code",
   "execution_count": 16,
   "metadata": {},
   "outputs": [
    {
     "name": "stdout",
     "output_type": "stream",
     "text": [
      "6\n"
     ]
    }
   ],
   "source": [
    "def find_second_maximum(lst):\n",
    "    if (len(lst) < 2):\n",
    "        return\n",
    "    # initialize the two to infinity\n",
    "    max_no = second_max_no = float('-inf')\n",
    "    for i in range(len(lst)):\n",
    "       # update the max_no if max_no value found\n",
    "       if (lst[i] > max_no):\n",
    "            second_max_no = max_no\n",
    "            max_no = lst[i]\n",
    "       # check if it is the second_max_no and not equal to max_no\n",
    "       elif (lst[i] > second_max_no and lst[i] != max_no):\n",
    "            second_max_no = lst[i]\n",
    "    if (second_max_no == float('-inf')):\n",
    "        return\n",
    "    else:\n",
    "        return second_max_no\n",
    "\n",
    "\n",
    "print(find_second_maximum([9, 2, 3, 6]))"
   ]
  },
  {
   "cell_type": "markdown",
   "metadata": {},
   "source": [
    "Time Complexity #\n",
    "\n",
    "This solution is in O(n) since the list is traversed once only.\n"
   ]
  },
  {
   "cell_type": "code",
   "execution_count": null,
   "metadata": {},
   "outputs": [],
   "source": []
  },
  {
   "cell_type": "markdown",
   "metadata": {},
   "source": [
    "## Challenge 8: Right Rotate List\n",
    "\n",
    "Given a list, can you rotate its elements by one index from right to left?\n",
    "\n",
    "Problem Statement #\n",
    "\n",
    "Implement a function right_rotate(lst, k) which will rotate the given list by k. This means that the right-most elements will appear at the left-most position in the list and so on. You only have to rotate the list by one element at a time.\n",
    "\n",
    "Input #\n",
    "\n",
    "A list and a positive number by which to rotate that list\n",
    "\n",
    "Output: #\n",
    "\n",
    "The given list rotated by k elements\n",
    "\n",
    "Sample Input #\n",
    "\n",
    "lst = [10,20,30,40,50]\n",
    "\n",
    "n = 3\n",
    "\n",
    "Sample Output #\n",
    "\n",
    "lst = [30,40,50,10,20]\n"
   ]
  },
  {
   "cell_type": "code",
   "execution_count": 19,
   "metadata": {},
   "outputs": [
    {
     "name": "stdout",
     "output_type": "stream",
     "text": [
      "[30, 40, 50, 10, 20, 30]\n"
     ]
    }
   ],
   "source": [
    "def right_rotate(lst, k):\n",
    "    if not lst:\n",
    "        k = 0\n",
    "    else:\n",
    "        k = k % len(lst)\n",
    "    return lst[-k:] + lst[:k]\n",
    "    \n",
    "print(right_rotate([10, 20, 30, 40, 50], abs(3)))\n"
   ]
  },
  {
   "cell_type": "markdown",
   "metadata": {},
   "source": [
    "Time Complexity #\n",
    "\n",
    "List slicing is in O(k) where k represents the number of elements that are sliced, and since the entire list is sliced, hence the total time complexity is in O(n).\n"
   ]
  },
  {
   "cell_type": "code",
   "execution_count": null,
   "metadata": {},
   "outputs": [],
   "source": []
  },
  {
   "cell_type": "markdown",
   "metadata": {},
   "source": [
    "## Challenge 9: Rearrange Positive & Negative Values\n",
    "\n",
    "Given a list, can you rearrange its elements in such a way that the negative elements appear at one end and positive elements appear at the other?\n",
    "\n",
    "\n",
    "Problem Statement #\n",
    "\n",
    "Implement a function rearrange(lst) which rearranges the elements such that all the negative elements appear on the left and positive elements appear at the right of the list. Note that it is not necessary to maintain the sorted order of the input list.\n",
    "\n",
    "Generally zero is NOT positive or negative, we will treat zero as a positive integer for this challenge! So, zero will be placed at the right.\n",
    "\n",
    "Output #\n",
    "\n",
    "A list with negative elements at the left and positive elements at the right\n",
    "\n",
    "Sample Input #\n",
    "\n",
    "[10,-1,20,4,5,-9,-6]\n",
    "\n",
    "Sample Output #\n",
    "\n",
    "[-1,-9,-6,10,20,4,5]\n",
    "\n"
   ]
  },
  {
   "cell_type": "code",
   "execution_count": 21,
   "metadata": {},
   "outputs": [
    {
     "name": "stdout",
     "output_type": "stream",
     "text": [
      "[-1, -9, -6, 10, 20, 4, 5]\n"
     ]
    }
   ],
   "source": [
    "def rearrange(lst):\n",
    "    return [el for el in lst if el < 0] + [el for el in lst if el >=0]\n",
    "\n",
    "print(rearrange([10, -1, 20, 4, 5, -9, -6]))\n"
   ]
  },
  {
   "cell_type": "markdown",
   "metadata": {},
   "source": [
    "Time Complexity #\n",
    "\n",
    "The time complexity of the solution is O(n) as it is iterated over twice.\n"
   ]
  },
  {
   "cell_type": "code",
   "execution_count": null,
   "metadata": {},
   "outputs": [],
   "source": []
  },
  {
   "cell_type": "markdown",
   "metadata": {},
   "source": [
    "## Challenge 10: Rearrange Sorted List in Max/Min Form\n",
    "\n",
    "Arrange elements in such a way that the maximum element appears at first position, then minimum at second, then second maximum at third and second minimum at fourth and so on.\n",
    "\n",
    "\n",
    "Problem Statement #\n",
    "\n",
    "Implement a function called max_min(lst) which will re-arrange the elements of a sorted list such that the 0th index will have the largest number, the 1st index will have the smallest, and the 2nd index will have second-largest, and so on. In other words, all the even-numbered indices will have the largest numbers in the list in descending order and the odd-numbered indices will have the smallest numbers in ascending order.\n",
    "\n",
    "Input: #\n",
    "\n",
    "A sorted list\n",
    "\n",
    "Output: #\n",
    "\n",
    "A list with elements stored in max/min form\n",
    "\n",
    "Sample Input #\n",
    "\n",
    "lst = [1,2,3,4,5]\n",
    "\n",
    "Sample Output #\n",
    "\n",
    "lst = [5,1,4,2,3]\n",
    "\n"
   ]
  },
  {
   "cell_type": "code",
   "execution_count": 22,
   "metadata": {},
   "outputs": [
    {
     "name": "stdout",
     "output_type": "stream",
     "text": [
      "[6, 1, 5, 2, 4, 3]\n"
     ]
    }
   ],
   "source": [
    "def max_min(lst):\n",
    "    res = []\n",
    "    for i in range(len(lst)//2):\n",
    "        res.append(lst[-(i+1)])\n",
    "        res.append(lst[i])\n",
    "    if len(lst) % 2 == 1:\n",
    "        res.append(lst[len(lst)//2])\n",
    "    return res\n",
    "    \n",
    "print(max_min([1, 2, 3, 4, 5, 6]))\n"
   ]
  },
  {
   "cell_type": "markdown",
   "metadata": {},
   "source": [
    "Time Complexity #\n",
    "\n",
    "The time complexity of this problem is O(n) as the list is iterated over once.\n"
   ]
  },
  {
   "cell_type": "code",
   "execution_count": 25,
   "metadata": {},
   "outputs": [
    {
     "name": "stdout",
     "output_type": "stream",
     "text": [
      "[9, 0, 8, 1, 7, 2, 6, 3, 5, 4]\n"
     ]
    }
   ],
   "source": [
    "def max_min(lst):\n",
    "    # Return empty list for empty list\n",
    "    if (len(lst) == 0):\n",
    "        return []\n",
    "\n",
    "    maxIdx = len(lst) - 1  # max index\n",
    "    minIdx = 0  # first index\n",
    "    maxElem = lst[-1] + 1  # Max element\n",
    "    # traverse the list\n",
    "    for i in range(len(lst)):\n",
    "        # even number means max element to append\n",
    "        if i % 2 == 0:\n",
    "            lst[i] += (lst[maxIdx] % maxElem) * maxElem\n",
    "            maxIdx -= 1\n",
    "        # odd number means min number\n",
    "        else:\n",
    "            lst[i] += (lst[minIdx] % maxElem) * maxElem\n",
    "            minIdx += 1\n",
    "\n",
    "    for i in range(len(lst)):\n",
    "        lst[i] = lst[i] // maxElem\n",
    "    return lst\n",
    "\n",
    "\n",
    "print(max_min([0, 1, 2, 3, 4, 5, 6, 7, 8, 9]))\n"
   ]
  },
  {
   "cell_type": "markdown",
   "metadata": {},
   "source": [
    "Time Complexity #\n",
    "\n",
    "The time complexity of this solution is in O(n). The space complexity is constant.\n"
   ]
  },
  {
   "cell_type": "code",
   "execution_count": null,
   "metadata": {},
   "outputs": [],
   "source": []
  },
  {
   "cell_type": "markdown",
   "metadata": {},
   "source": [
    "## Challenge 11: Maximum Sum Sublist\n",
    "\n",
    "Given an array, find the contiguous sublist with the largest sum.\n",
    "\n",
    "\n",
    "Problem statement #\n",
    "\n",
    "Given an integer list, return the maximum sublist sum. The list may contain both positive and negative integers and is unsorted.\n",
    "\n",
    "Partial function definition #\n",
    "\n",
    "def find_max_sum_sublist(lst):\n",
    "  pass\n",
    "\n",
    "Input #\n",
    "\n",
    "a list lst\n",
    "\n",
    "Output #\n",
    "\n",
    "a number (maximum subarray sum)\n",
    "\n"
   ]
  },
  {
   "cell_type": "code",
   "execution_count": 27,
   "metadata": {},
   "outputs": [
    {
     "name": "stdout",
     "output_type": "stream",
     "text": [
      "Sum of largest subarray:  12\n"
     ]
    }
   ],
   "source": [
    "# Solution (Kadane’s Algorithm) #\n",
    "# This algorithm takes a dynamic programming approach to solve the maximum sublist sum problem.\n",
    "\n",
    "def find_max_sum_sublist(lst):\n",
    "    if not lst:\n",
    "        return []\n",
    "    cur_max = lst[0]\n",
    "    global_max = lst[0]\n",
    "    for i in range(1, len(lst)):\n",
    "        if cur_max < 0:\n",
    "            cur_max = lst[i]\n",
    "        else:\n",
    "            cur_max += lst[i]\n",
    "        if global_max < cur_max:\n",
    "            global_max = cur_max\n",
    "    return global_max\n",
    "\n",
    "\n",
    "lst = [-4, 2, -5, 1, 2, 3, 6, -5, 1];\n",
    "print(\"Sum of largest subarray: \", find_max_sum_sublist(lst))\n",
    "\n"
   ]
  },
  {
   "cell_type": "markdown",
   "metadata": {},
   "source": [
    "The basic idea of Kadane’s algorithm is to scan the entire list and at each position find the maximum sum of the sublist ending there. This is achieved by keeping a current_max for the current list index and a global_max.\n",
    "\n",
    "Runtime complexity #\n",
    "\n",
    "The runtime complexity of this solution is linear, O(n).\n",
    "\n",
    "Space complexity #\n",
    "\n",
    "The memory complexity of this solution is constant, O(1).\n",
    "\n"
   ]
  },
  {
   "cell_type": "code",
   "execution_count": null,
   "metadata": {},
   "outputs": [],
   "source": []
  },
  {
   "cell_type": "code",
   "execution_count": null,
   "metadata": {},
   "outputs": [],
   "source": []
  },
  {
   "cell_type": "code",
   "execution_count": null,
   "metadata": {},
   "outputs": [],
   "source": []
  },
  {
   "cell_type": "code",
   "execution_count": null,
   "metadata": {},
   "outputs": [],
   "source": []
  },
  {
   "cell_type": "code",
   "execution_count": null,
   "metadata": {},
   "outputs": [],
   "source": []
  },
  {
   "cell_type": "code",
   "execution_count": null,
   "metadata": {},
   "outputs": [],
   "source": []
  },
  {
   "cell_type": "code",
   "execution_count": null,
   "metadata": {},
   "outputs": [],
   "source": []
  },
  {
   "cell_type": "code",
   "execution_count": null,
   "metadata": {},
   "outputs": [],
   "source": []
  },
  {
   "cell_type": "code",
   "execution_count": null,
   "metadata": {},
   "outputs": [],
   "source": []
  },
  {
   "cell_type": "code",
   "execution_count": null,
   "metadata": {},
   "outputs": [],
   "source": []
  },
  {
   "cell_type": "code",
   "execution_count": null,
   "metadata": {},
   "outputs": [],
   "source": []
  },
  {
   "cell_type": "code",
   "execution_count": null,
   "metadata": {},
   "outputs": [],
   "source": []
  },
  {
   "cell_type": "code",
   "execution_count": null,
   "metadata": {},
   "outputs": [],
   "source": []
  },
  {
   "cell_type": "code",
   "execution_count": null,
   "metadata": {},
   "outputs": [],
   "source": []
  },
  {
   "cell_type": "code",
   "execution_count": null,
   "metadata": {},
   "outputs": [],
   "source": []
  },
  {
   "cell_type": "code",
   "execution_count": null,
   "metadata": {},
   "outputs": [],
   "source": []
  },
  {
   "cell_type": "code",
   "execution_count": null,
   "metadata": {},
   "outputs": [],
   "source": []
  },
  {
   "cell_type": "code",
   "execution_count": null,
   "metadata": {},
   "outputs": [],
   "source": []
  },
  {
   "cell_type": "code",
   "execution_count": null,
   "metadata": {},
   "outputs": [],
   "source": []
  },
  {
   "cell_type": "code",
   "execution_count": null,
   "metadata": {},
   "outputs": [],
   "source": []
  },
  {
   "cell_type": "code",
   "execution_count": null,
   "metadata": {},
   "outputs": [],
   "source": []
  },
  {
   "cell_type": "code",
   "execution_count": null,
   "metadata": {},
   "outputs": [],
   "source": []
  },
  {
   "cell_type": "code",
   "execution_count": null,
   "metadata": {},
   "outputs": [],
   "source": []
  },
  {
   "cell_type": "code",
   "execution_count": null,
   "metadata": {},
   "outputs": [],
   "source": []
  },
  {
   "cell_type": "code",
   "execution_count": null,
   "metadata": {},
   "outputs": [],
   "source": []
  },
  {
   "cell_type": "code",
   "execution_count": null,
   "metadata": {},
   "outputs": [],
   "source": []
  },
  {
   "cell_type": "code",
   "execution_count": null,
   "metadata": {},
   "outputs": [],
   "source": []
  },
  {
   "cell_type": "code",
   "execution_count": null,
   "metadata": {},
   "outputs": [],
   "source": []
  },
  {
   "cell_type": "code",
   "execution_count": null,
   "metadata": {},
   "outputs": [],
   "source": []
  },
  {
   "cell_type": "code",
   "execution_count": null,
   "metadata": {},
   "outputs": [],
   "source": []
  },
  {
   "cell_type": "code",
   "execution_count": null,
   "metadata": {},
   "outputs": [],
   "source": []
  },
  {
   "cell_type": "code",
   "execution_count": null,
   "metadata": {},
   "outputs": [],
   "source": []
  },
  {
   "cell_type": "code",
   "execution_count": null,
   "metadata": {},
   "outputs": [],
   "source": []
  },
  {
   "cell_type": "code",
   "execution_count": null,
   "metadata": {},
   "outputs": [],
   "source": []
  },
  {
   "cell_type": "code",
   "execution_count": null,
   "metadata": {},
   "outputs": [],
   "source": []
  },
  {
   "cell_type": "code",
   "execution_count": null,
   "metadata": {},
   "outputs": [],
   "source": []
  },
  {
   "cell_type": "code",
   "execution_count": null,
   "metadata": {},
   "outputs": [],
   "source": []
  },
  {
   "cell_type": "code",
   "execution_count": null,
   "metadata": {},
   "outputs": [],
   "source": []
  },
  {
   "cell_type": "code",
   "execution_count": null,
   "metadata": {},
   "outputs": [],
   "source": []
  }
 ],
 "metadata": {
  "kernelspec": {
   "display_name": "Python 3",
   "language": "python",
   "name": "python3"
  },
  "language_info": {
   "codemirror_mode": {
    "name": "ipython",
    "version": 3
   },
   "file_extension": ".py",
   "mimetype": "text/x-python",
   "name": "python",
   "nbconvert_exporter": "python",
   "pygments_lexer": "ipython3",
   "version": "3.8.5"
  },
  "toc": {
   "base_numbering": 1,
   "nav_menu": {},
   "number_sections": true,
   "sideBar": true,
   "skip_h1_title": false,
   "title_cell": "Table of Contents",
   "title_sidebar": "Contents",
   "toc_cell": true,
   "toc_position": {},
   "toc_section_display": true,
   "toc_window_display": true
  }
 },
 "nbformat": 4,
 "nbformat_minor": 4
}
